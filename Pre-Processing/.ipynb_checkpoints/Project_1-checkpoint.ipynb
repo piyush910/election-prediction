{
 "cells": [
  {
   "cell_type": "code",
   "execution_count": 1,
   "metadata": {},
   "outputs": [],
   "source": [
    "import pandas as pd\n",
    "import numpy as np\n",
    "import seaborn as sns\n",
    "import matplotlib.pyplot as plt\n",
    "import warnings\n",
    "warnings.filterwarnings('ignore')"
   ]
  },
  {
   "cell_type": "code",
   "execution_count": 2,
   "metadata": {},
   "outputs": [],
   "source": [
    "data1 = pd.read_csv('demographics_train.csv')"
   ]
  },
  {
   "cell_type": "code",
   "execution_count": 3,
   "metadata": {},
   "outputs": [],
   "source": [
    "data2 = pd.read_csv('election_train.csv')"
   ]
  },
  {
   "cell_type": "code",
   "execution_count": 4,
   "metadata": {},
   "outputs": [
    {
     "data": {
      "text/html": [
       "<div>\n",
       "<style scoped>\n",
       "    .dataframe tbody tr th:only-of-type {\n",
       "        vertical-align: middle;\n",
       "    }\n",
       "\n",
       "    .dataframe tbody tr th {\n",
       "        vertical-align: top;\n",
       "    }\n",
       "\n",
       "    .dataframe thead th {\n",
       "        text-align: right;\n",
       "    }\n",
       "</style>\n",
       "<table border=\"1\" class=\"dataframe\">\n",
       "  <thead>\n",
       "    <tr style=\"text-align: right;\">\n",
       "      <th></th>\n",
       "      <th>County</th>\n",
       "      <th>State</th>\n",
       "      <th>2014 Population</th>\n",
       "      <th>2010 Population</th>\n",
       "      <th>Population Percent Change</th>\n",
       "      <th>Percent Under 5 Years</th>\n",
       "      <th>Percent Under 18 Years</th>\n",
       "      <th>Percent 65 and Older</th>\n",
       "      <th>Percent Female</th>\n",
       "      <th>Percent White</th>\n",
       "      <th>...</th>\n",
       "      <th>Median Household Income</th>\n",
       "      <th>Per Capita Income</th>\n",
       "      <th>Percent Below Poverty Level</th>\n",
       "      <th>Accommodation and Food Services Sales</th>\n",
       "      <th>Manufacturers Shipments</th>\n",
       "      <th>Merchant Wholesaler Sales</th>\n",
       "      <th>Retail Sales</th>\n",
       "      <th>Retail Sales per Capita</th>\n",
       "      <th>Population per Square Mile</th>\n",
       "      <th>Land Area</th>\n",
       "    </tr>\n",
       "  </thead>\n",
       "  <tbody>\n",
       "    <tr>\n",
       "      <th>0</th>\n",
       "      <td>Clinton County</td>\n",
       "      <td>IN</td>\n",
       "      <td>32776</td>\n",
       "      <td>33224</td>\n",
       "      <td>-1.3</td>\n",
       "      <td>6.9</td>\n",
       "      <td>26.3</td>\n",
       "      <td>15.8</td>\n",
       "      <td>50.5</td>\n",
       "      <td>97.8</td>\n",
       "      <td>...</td>\n",
       "      <td>48953</td>\n",
       "      <td>21554</td>\n",
       "      <td>13.9</td>\n",
       "      <td>250</td>\n",
       "      <td>22834</td>\n",
       "      <td>0</td>\n",
       "      <td>2235</td>\n",
       "      <td>6579</td>\n",
       "      <td>82.0</td>\n",
       "      <td>405.07</td>\n",
       "    </tr>\n",
       "    <tr>\n",
       "      <th>1</th>\n",
       "      <td>Trego County</td>\n",
       "      <td>KS</td>\n",
       "      <td>2902</td>\n",
       "      <td>3001</td>\n",
       "      <td>-3.3</td>\n",
       "      <td>4.4</td>\n",
       "      <td>18.0</td>\n",
       "      <td>24.2</td>\n",
       "      <td>50.6</td>\n",
       "      <td>97.4</td>\n",
       "      <td>...</td>\n",
       "      <td>45714</td>\n",
       "      <td>23095</td>\n",
       "      <td>6.7</td>\n",
       "      <td>40</td>\n",
       "      <td>0</td>\n",
       "      <td>241</td>\n",
       "      <td>404</td>\n",
       "      <td>13740</td>\n",
       "      <td>3.4</td>\n",
       "      <td>889.48</td>\n",
       "    </tr>\n",
       "    <tr>\n",
       "      <th>2</th>\n",
       "      <td>Cass County</td>\n",
       "      <td>NE</td>\n",
       "      <td>25524</td>\n",
       "      <td>25241</td>\n",
       "      <td>1.1</td>\n",
       "      <td>6.0</td>\n",
       "      <td>24.6</td>\n",
       "      <td>16.1</td>\n",
       "      <td>49.6</td>\n",
       "      <td>97.0</td>\n",
       "      <td>...</td>\n",
       "      <td>64697</td>\n",
       "      <td>29638</td>\n",
       "      <td>6.4</td>\n",
       "      <td>142</td>\n",
       "      <td>0</td>\n",
       "      <td>990</td>\n",
       "      <td>1836</td>\n",
       "      <td>7196</td>\n",
       "      <td>45.3</td>\n",
       "      <td>557.45</td>\n",
       "    </tr>\n",
       "    <tr>\n",
       "      <th>3</th>\n",
       "      <td>Walton County</td>\n",
       "      <td>GA</td>\n",
       "      <td>87615</td>\n",
       "      <td>83768</td>\n",
       "      <td>4.6</td>\n",
       "      <td>6.2</td>\n",
       "      <td>25.9</td>\n",
       "      <td>14.2</td>\n",
       "      <td>51.3</td>\n",
       "      <td>79.6</td>\n",
       "      <td>...</td>\n",
       "      <td>52369</td>\n",
       "      <td>22824</td>\n",
       "      <td>13.8</td>\n",
       "      <td>583</td>\n",
       "      <td>5918</td>\n",
       "      <td>2604</td>\n",
       "      <td>7971</td>\n",
       "      <td>9577</td>\n",
       "      <td>257.2</td>\n",
       "      <td>325.68</td>\n",
       "    </tr>\n",
       "    <tr>\n",
       "      <th>4</th>\n",
       "      <td>Norfolk County</td>\n",
       "      <td>MA</td>\n",
       "      <td>692254</td>\n",
       "      <td>670850</td>\n",
       "      <td>3.2</td>\n",
       "      <td>5.4</td>\n",
       "      <td>21.6</td>\n",
       "      <td>15.7</td>\n",
       "      <td>52.1</td>\n",
       "      <td>80.9</td>\n",
       "      <td>...</td>\n",
       "      <td>84916</td>\n",
       "      <td>44692</td>\n",
       "      <td>6.6</td>\n",
       "      <td>12940</td>\n",
       "      <td>103407</td>\n",
       "      <td>123988</td>\n",
       "      <td>112414</td>\n",
       "      <td>17133</td>\n",
       "      <td>1693.6</td>\n",
       "      <td>396.11</td>\n",
       "    </tr>\n",
       "  </tbody>\n",
       "</table>\n",
       "<p>5 rows × 41 columns</p>\n",
       "</div>"
      ],
      "text/plain": [
       "           County State  2014 Population  2010 Population  \\\n",
       "0  Clinton County    IN            32776            33224   \n",
       "1    Trego County    KS             2902             3001   \n",
       "2     Cass County    NE            25524            25241   \n",
       "3   Walton County    GA            87615            83768   \n",
       "4  Norfolk County    MA           692254           670850   \n",
       "\n",
       "   Population Percent Change  Percent Under 5 Years  Percent Under 18 Years  \\\n",
       "0                       -1.3                    6.9                    26.3   \n",
       "1                       -3.3                    4.4                    18.0   \n",
       "2                        1.1                    6.0                    24.6   \n",
       "3                        4.6                    6.2                    25.9   \n",
       "4                        3.2                    5.4                    21.6   \n",
       "\n",
       "   Percent 65 and Older  Percent Female  Percent White    ...      \\\n",
       "0                  15.8            50.5           97.8    ...       \n",
       "1                  24.2            50.6           97.4    ...       \n",
       "2                  16.1            49.6           97.0    ...       \n",
       "3                  14.2            51.3           79.6    ...       \n",
       "4                  15.7            52.1           80.9    ...       \n",
       "\n",
       "   Median Household Income  Per Capita Income  Percent Below Poverty Level  \\\n",
       "0                    48953              21554                         13.9   \n",
       "1                    45714              23095                          6.7   \n",
       "2                    64697              29638                          6.4   \n",
       "3                    52369              22824                         13.8   \n",
       "4                    84916              44692                          6.6   \n",
       "\n",
       "   Accommodation and Food Services Sales  Manufacturers Shipments  \\\n",
       "0                                    250                    22834   \n",
       "1                                     40                        0   \n",
       "2                                    142                        0   \n",
       "3                                    583                     5918   \n",
       "4                                  12940                   103407   \n",
       "\n",
       "   Merchant Wholesaler Sales  Retail Sales  Retail Sales per Capita  \\\n",
       "0                          0          2235                     6579   \n",
       "1                        241           404                    13740   \n",
       "2                        990          1836                     7196   \n",
       "3                       2604          7971                     9577   \n",
       "4                     123988        112414                    17133   \n",
       "\n",
       "   Population per Square Mile  Land Area  \n",
       "0                        82.0     405.07  \n",
       "1                         3.4     889.48  \n",
       "2                        45.3     557.45  \n",
       "3                       257.2     325.68  \n",
       "4                      1693.6     396.11  \n",
       "\n",
       "[5 rows x 41 columns]"
      ]
     },
     "execution_count": 4,
     "metadata": {},
     "output_type": "execute_result"
    }
   ],
   "source": [
    "data1.head()"
   ]
  },
  {
   "cell_type": "code",
   "execution_count": 5,
   "metadata": {},
   "outputs": [
    {
     "data": {
      "text/html": [
       "<div>\n",
       "<style scoped>\n",
       "    .dataframe tbody tr th:only-of-type {\n",
       "        vertical-align: middle;\n",
       "    }\n",
       "\n",
       "    .dataframe tbody tr th {\n",
       "        vertical-align: top;\n",
       "    }\n",
       "\n",
       "    .dataframe thead th {\n",
       "        text-align: right;\n",
       "    }\n",
       "</style>\n",
       "<table border=\"1\" class=\"dataframe\">\n",
       "  <thead>\n",
       "    <tr style=\"text-align: right;\">\n",
       "      <th></th>\n",
       "      <th>County</th>\n",
       "      <th>State</th>\n",
       "      <th>Ben Carson.Number of Votes</th>\n",
       "      <th>Ben Carson.Party</th>\n",
       "      <th>Ben Carson.Percent of Votes</th>\n",
       "      <th>Bernie Sanders.Number of Votes</th>\n",
       "      <th>Bernie Sanders.Party</th>\n",
       "      <th>Bernie Sanders.Percent of Votes</th>\n",
       "      <th>Carly Fiorina.Number of Votes</th>\n",
       "      <th>Carly Fiorina.Party</th>\n",
       "      <th>...</th>\n",
       "      <th>Rick Santorum.Percent of Votes</th>\n",
       "      <th>Ted Cruz.Number of Votes</th>\n",
       "      <th>Ted Cruz.Party</th>\n",
       "      <th>Ted Cruz.Percent of Votes</th>\n",
       "      <th>No Preference.Number of Votes</th>\n",
       "      <th>No Preference.Party</th>\n",
       "      <th>No Preference.Percent of Votes</th>\n",
       "      <th>Uncommitted.Number of Votes</th>\n",
       "      <th>Uncommitted.Party</th>\n",
       "      <th>Uncommitted.Percent of Votes</th>\n",
       "    </tr>\n",
       "  </thead>\n",
       "  <tbody>\n",
       "    <tr>\n",
       "      <th>0</th>\n",
       "      <td>Clinton</td>\n",
       "      <td>Indiana</td>\n",
       "      <td>0</td>\n",
       "      <td>Republican</td>\n",
       "      <td>0.0</td>\n",
       "      <td>1046</td>\n",
       "      <td>Democrat</td>\n",
       "      <td>59.1</td>\n",
       "      <td>0</td>\n",
       "      <td>Republican</td>\n",
       "      <td>...</td>\n",
       "      <td>0.0</td>\n",
       "      <td>2637</td>\n",
       "      <td>Republican</td>\n",
       "      <td>39.9</td>\n",
       "      <td>0</td>\n",
       "      <td>NaN</td>\n",
       "      <td>0.0</td>\n",
       "      <td>0</td>\n",
       "      <td>NaN</td>\n",
       "      <td>0.0</td>\n",
       "    </tr>\n",
       "    <tr>\n",
       "      <th>1</th>\n",
       "      <td>Cass</td>\n",
       "      <td>Nebraska</td>\n",
       "      <td>0</td>\n",
       "      <td>Republican</td>\n",
       "      <td>0.0</td>\n",
       "      <td>151</td>\n",
       "      <td>Democrat</td>\n",
       "      <td>53.4</td>\n",
       "      <td>0</td>\n",
       "      <td>Republican</td>\n",
       "      <td>...</td>\n",
       "      <td>0.0</td>\n",
       "      <td>673</td>\n",
       "      <td>Republican</td>\n",
       "      <td>22.5</td>\n",
       "      <td>0</td>\n",
       "      <td>NaN</td>\n",
       "      <td>0.0</td>\n",
       "      <td>0</td>\n",
       "      <td>NaN</td>\n",
       "      <td>0.0</td>\n",
       "    </tr>\n",
       "    <tr>\n",
       "      <th>2</th>\n",
       "      <td>Walton</td>\n",
       "      <td>Georgia</td>\n",
       "      <td>1046</td>\n",
       "      <td>Republican</td>\n",
       "      <td>5.5</td>\n",
       "      <td>969</td>\n",
       "      <td>Democrat</td>\n",
       "      <td>29.4</td>\n",
       "      <td>0</td>\n",
       "      <td>Republican</td>\n",
       "      <td>...</td>\n",
       "      <td>0.0</td>\n",
       "      <td>5883</td>\n",
       "      <td>Republican</td>\n",
       "      <td>30.9</td>\n",
       "      <td>0</td>\n",
       "      <td>NaN</td>\n",
       "      <td>0.0</td>\n",
       "      <td>0</td>\n",
       "      <td>NaN</td>\n",
       "      <td>0.0</td>\n",
       "    </tr>\n",
       "    <tr>\n",
       "      <th>3</th>\n",
       "      <td>Norfolk</td>\n",
       "      <td>Massachusetts</td>\n",
       "      <td>38</td>\n",
       "      <td>Republican</td>\n",
       "      <td>2.2</td>\n",
       "      <td>956</td>\n",
       "      <td>Democrat</td>\n",
       "      <td>55.3</td>\n",
       "      <td>0</td>\n",
       "      <td>Republican</td>\n",
       "      <td>...</td>\n",
       "      <td>0.0</td>\n",
       "      <td>153</td>\n",
       "      <td>Republican</td>\n",
       "      <td>8.8</td>\n",
       "      <td>6</td>\n",
       "      <td>NaN</td>\n",
       "      <td>0.3</td>\n",
       "      <td>0</td>\n",
       "      <td>NaN</td>\n",
       "      <td>0.0</td>\n",
       "    </tr>\n",
       "    <tr>\n",
       "      <th>4</th>\n",
       "      <td>Beaver</td>\n",
       "      <td>Pennsylvania</td>\n",
       "      <td>0</td>\n",
       "      <td>Republican</td>\n",
       "      <td>0.0</td>\n",
       "      <td>9563</td>\n",
       "      <td>Democrat</td>\n",
       "      <td>41.8</td>\n",
       "      <td>0</td>\n",
       "      <td>Republican</td>\n",
       "      <td>...</td>\n",
       "      <td>0.0</td>\n",
       "      <td>4331</td>\n",
       "      <td>Republican</td>\n",
       "      <td>22.3</td>\n",
       "      <td>0</td>\n",
       "      <td>NaN</td>\n",
       "      <td>0.0</td>\n",
       "      <td>0</td>\n",
       "      <td>NaN</td>\n",
       "      <td>0.0</td>\n",
       "    </tr>\n",
       "  </tbody>\n",
       "</table>\n",
       "<p>5 rows × 50 columns</p>\n",
       "</div>"
      ],
      "text/plain": [
       "    County          State  Ben Carson.Number of Votes Ben Carson.Party  \\\n",
       "0  Clinton        Indiana                           0       Republican   \n",
       "1     Cass       Nebraska                           0       Republican   \n",
       "2   Walton        Georgia                        1046       Republican   \n",
       "3  Norfolk  Massachusetts                          38       Republican   \n",
       "4   Beaver   Pennsylvania                           0       Republican   \n",
       "\n",
       "   Ben Carson.Percent of Votes  Bernie Sanders.Number of Votes  \\\n",
       "0                          0.0                            1046   \n",
       "1                          0.0                             151   \n",
       "2                          5.5                             969   \n",
       "3                          2.2                             956   \n",
       "4                          0.0                            9563   \n",
       "\n",
       "  Bernie Sanders.Party  Bernie Sanders.Percent of Votes  \\\n",
       "0             Democrat                             59.1   \n",
       "1             Democrat                             53.4   \n",
       "2             Democrat                             29.4   \n",
       "3             Democrat                             55.3   \n",
       "4             Democrat                             41.8   \n",
       "\n",
       "   Carly Fiorina.Number of Votes Carly Fiorina.Party  \\\n",
       "0                              0          Republican   \n",
       "1                              0          Republican   \n",
       "2                              0          Republican   \n",
       "3                              0          Republican   \n",
       "4                              0          Republican   \n",
       "\n",
       "               ...               Rick Santorum.Percent of Votes  \\\n",
       "0              ...                                          0.0   \n",
       "1              ...                                          0.0   \n",
       "2              ...                                          0.0   \n",
       "3              ...                                          0.0   \n",
       "4              ...                                          0.0   \n",
       "\n",
       "   Ted Cruz.Number of Votes Ted Cruz.Party  Ted Cruz.Percent of Votes  \\\n",
       "0                      2637     Republican                       39.9   \n",
       "1                       673     Republican                       22.5   \n",
       "2                      5883     Republican                       30.9   \n",
       "3                       153     Republican                        8.8   \n",
       "4                      4331     Republican                       22.3   \n",
       "\n",
       "   No Preference.Number of Votes No Preference.Party  \\\n",
       "0                              0                 NaN   \n",
       "1                              0                 NaN   \n",
       "2                              0                 NaN   \n",
       "3                              6                 NaN   \n",
       "4                              0                 NaN   \n",
       "\n",
       "   No Preference.Percent of Votes  Uncommitted.Number of Votes  \\\n",
       "0                             0.0                            0   \n",
       "1                             0.0                            0   \n",
       "2                             0.0                            0   \n",
       "3                             0.3                            0   \n",
       "4                             0.0                            0   \n",
       "\n",
       "  Uncommitted.Party  Uncommitted.Percent of Votes  \n",
       "0               NaN                           0.0  \n",
       "1               NaN                           0.0  \n",
       "2               NaN                           0.0  \n",
       "3               NaN                           0.0  \n",
       "4               NaN                           0.0  \n",
       "\n",
       "[5 rows x 50 columns]"
      ]
     },
     "execution_count": 5,
     "metadata": {},
     "output_type": "execute_result"
    }
   ],
   "source": [
    "data2.head()"
   ]
  },
  {
   "cell_type": "code",
   "execution_count": 6,
   "metadata": {},
   "outputs": [],
   "source": [
    "State_list = {\n",
    "    'Alabama': 'AL',\n",
    "    'Alaska': 'AK',\n",
    "    'Arizona': 'AZ',\n",
    "    'Arkansas': 'AR',\n",
    "    'California': 'CA',\n",
    "    'Colorado': 'CO',\n",
    "    'Connecticut': 'CT',\n",
    "    'Delaware': 'DE',\n",
    "    'Florida': 'FL',\n",
    "    'Georgia': 'GA',\n",
    "    'Hawaii': 'HI',\n",
    "    'Idaho': 'ID',\n",
    "    'Illinois': 'IL',\n",
    "    'Indiana': 'IN',\n",
    "    'Iowa': 'IA',\n",
    "    'Kansas': 'KS',\n",
    "    'Kentucky': 'KY',\n",
    "    'Louisiana': 'LA',\n",
    "    'Maine': 'ME',\n",
    "    'Maryland': 'MD',\n",
    "    'Massachusetts': 'MA',\n",
    "    'Michigan': 'MI',\n",
    "    'Minnesota': 'MN',\n",
    "    'Mississippi': 'MS',\n",
    "    'Missouri': 'MO',\n",
    "    'Montana': 'MT',\n",
    "    'Nebraska': 'NE',\n",
    "    'Nevada': 'NV',\n",
    "    'New Hampshire': 'NH',\n",
    "    'New Jersey': 'NJ',\n",
    "    'New Mexico': 'NM',\n",
    "    'New York': 'NY',\n",
    "    'North Carolina': 'NC',\n",
    "    'North Dakota': 'ND',\n",
    "    'Ohio': 'OH',\n",
    "    'Oklahoma': 'OK',\n",
    "    'Oregon': 'OR',\n",
    "    'Pennsylvania': 'PA',\n",
    "    'Rhode Island': 'RI',\n",
    "    'South Carolina': 'SC',\n",
    "    'South Dakota': 'SD',\n",
    "    'Tennessee': 'TN',\n",
    "    'Texas': 'TX',\n",
    "    'Utah': 'UT',\n",
    "    'Vermont': 'VT',\n",
    "    'Virginia': 'VA',\n",
    "    'Washington': 'WA',\n",
    "    'West Virginia': 'WV',\n",
    "    'Wisconsin': 'WI',\n",
    "    'Wyoming': 'WY',\n",
    "}"
   ]
  },
  {
   "cell_type": "code",
   "execution_count": 7,
   "metadata": {},
   "outputs": [],
   "source": [
    "data2['State'] = data2['State'].map(State_list)"
   ]
  },
  {
   "cell_type": "code",
   "execution_count": 8,
   "metadata": {},
   "outputs": [],
   "source": [
    "county_list = list(data1['County'].unique())"
   ]
  },
  {
   "cell_type": "code",
   "execution_count": 9,
   "metadata": {},
   "outputs": [],
   "source": [
    "unipue_counties = county_list.copy()"
   ]
  },
  {
   "cell_type": "code",
   "execution_count": 10,
   "metadata": {},
   "outputs": [],
   "source": [
    "for county in range(len(county_list)):\n",
    "    county_list[county] = county_list[county][0:-7]"
   ]
  },
  {
   "cell_type": "code",
   "execution_count": 11,
   "metadata": {},
   "outputs": [],
   "source": [
    "county_dict = dict(zip(unipue_counties,county_list))"
   ]
  },
  {
   "cell_type": "code",
   "execution_count": 12,
   "metadata": {},
   "outputs": [],
   "source": [
    "data1['County'] = data1['County'].map(county_dict)"
   ]
  },
  {
   "cell_type": "code",
   "execution_count": 13,
   "metadata": {},
   "outputs": [
    {
     "data": {
      "text/html": [
       "<div>\n",
       "<style scoped>\n",
       "    .dataframe tbody tr th:only-of-type {\n",
       "        vertical-align: middle;\n",
       "    }\n",
       "\n",
       "    .dataframe tbody tr th {\n",
       "        vertical-align: top;\n",
       "    }\n",
       "\n",
       "    .dataframe thead th {\n",
       "        text-align: right;\n",
       "    }\n",
       "</style>\n",
       "<table border=\"1\" class=\"dataframe\">\n",
       "  <thead>\n",
       "    <tr style=\"text-align: right;\">\n",
       "      <th></th>\n",
       "      <th>County</th>\n",
       "      <th>State</th>\n",
       "      <th>2014 Population</th>\n",
       "      <th>2010 Population</th>\n",
       "      <th>Population Percent Change</th>\n",
       "      <th>Percent Under 5 Years</th>\n",
       "      <th>Percent Under 18 Years</th>\n",
       "      <th>Percent 65 and Older</th>\n",
       "      <th>Percent Female</th>\n",
       "      <th>Percent White</th>\n",
       "      <th>...</th>\n",
       "      <th>Median Household Income</th>\n",
       "      <th>Per Capita Income</th>\n",
       "      <th>Percent Below Poverty Level</th>\n",
       "      <th>Accommodation and Food Services Sales</th>\n",
       "      <th>Manufacturers Shipments</th>\n",
       "      <th>Merchant Wholesaler Sales</th>\n",
       "      <th>Retail Sales</th>\n",
       "      <th>Retail Sales per Capita</th>\n",
       "      <th>Population per Square Mile</th>\n",
       "      <th>Land Area</th>\n",
       "    </tr>\n",
       "  </thead>\n",
       "  <tbody>\n",
       "    <tr>\n",
       "      <th>0</th>\n",
       "      <td>Clinton</td>\n",
       "      <td>IN</td>\n",
       "      <td>32776</td>\n",
       "      <td>33224</td>\n",
       "      <td>-1.3</td>\n",
       "      <td>6.9</td>\n",
       "      <td>26.3</td>\n",
       "      <td>15.8</td>\n",
       "      <td>50.5</td>\n",
       "      <td>97.8</td>\n",
       "      <td>...</td>\n",
       "      <td>48953</td>\n",
       "      <td>21554</td>\n",
       "      <td>13.9</td>\n",
       "      <td>250</td>\n",
       "      <td>22834</td>\n",
       "      <td>0</td>\n",
       "      <td>2235</td>\n",
       "      <td>6579</td>\n",
       "      <td>82.0</td>\n",
       "      <td>405.07</td>\n",
       "    </tr>\n",
       "    <tr>\n",
       "      <th>1</th>\n",
       "      <td>Trego</td>\n",
       "      <td>KS</td>\n",
       "      <td>2902</td>\n",
       "      <td>3001</td>\n",
       "      <td>-3.3</td>\n",
       "      <td>4.4</td>\n",
       "      <td>18.0</td>\n",
       "      <td>24.2</td>\n",
       "      <td>50.6</td>\n",
       "      <td>97.4</td>\n",
       "      <td>...</td>\n",
       "      <td>45714</td>\n",
       "      <td>23095</td>\n",
       "      <td>6.7</td>\n",
       "      <td>40</td>\n",
       "      <td>0</td>\n",
       "      <td>241</td>\n",
       "      <td>404</td>\n",
       "      <td>13740</td>\n",
       "      <td>3.4</td>\n",
       "      <td>889.48</td>\n",
       "    </tr>\n",
       "    <tr>\n",
       "      <th>2</th>\n",
       "      <td>Cass</td>\n",
       "      <td>NE</td>\n",
       "      <td>25524</td>\n",
       "      <td>25241</td>\n",
       "      <td>1.1</td>\n",
       "      <td>6.0</td>\n",
       "      <td>24.6</td>\n",
       "      <td>16.1</td>\n",
       "      <td>49.6</td>\n",
       "      <td>97.0</td>\n",
       "      <td>...</td>\n",
       "      <td>64697</td>\n",
       "      <td>29638</td>\n",
       "      <td>6.4</td>\n",
       "      <td>142</td>\n",
       "      <td>0</td>\n",
       "      <td>990</td>\n",
       "      <td>1836</td>\n",
       "      <td>7196</td>\n",
       "      <td>45.3</td>\n",
       "      <td>557.45</td>\n",
       "    </tr>\n",
       "    <tr>\n",
       "      <th>3</th>\n",
       "      <td>Walton</td>\n",
       "      <td>GA</td>\n",
       "      <td>87615</td>\n",
       "      <td>83768</td>\n",
       "      <td>4.6</td>\n",
       "      <td>6.2</td>\n",
       "      <td>25.9</td>\n",
       "      <td>14.2</td>\n",
       "      <td>51.3</td>\n",
       "      <td>79.6</td>\n",
       "      <td>...</td>\n",
       "      <td>52369</td>\n",
       "      <td>22824</td>\n",
       "      <td>13.8</td>\n",
       "      <td>583</td>\n",
       "      <td>5918</td>\n",
       "      <td>2604</td>\n",
       "      <td>7971</td>\n",
       "      <td>9577</td>\n",
       "      <td>257.2</td>\n",
       "      <td>325.68</td>\n",
       "    </tr>\n",
       "    <tr>\n",
       "      <th>4</th>\n",
       "      <td>Norfolk</td>\n",
       "      <td>MA</td>\n",
       "      <td>692254</td>\n",
       "      <td>670850</td>\n",
       "      <td>3.2</td>\n",
       "      <td>5.4</td>\n",
       "      <td>21.6</td>\n",
       "      <td>15.7</td>\n",
       "      <td>52.1</td>\n",
       "      <td>80.9</td>\n",
       "      <td>...</td>\n",
       "      <td>84916</td>\n",
       "      <td>44692</td>\n",
       "      <td>6.6</td>\n",
       "      <td>12940</td>\n",
       "      <td>103407</td>\n",
       "      <td>123988</td>\n",
       "      <td>112414</td>\n",
       "      <td>17133</td>\n",
       "      <td>1693.6</td>\n",
       "      <td>396.11</td>\n",
       "    </tr>\n",
       "  </tbody>\n",
       "</table>\n",
       "<p>5 rows × 41 columns</p>\n",
       "</div>"
      ],
      "text/plain": [
       "    County State  2014 Population  2010 Population  Population Percent Change  \\\n",
       "0  Clinton    IN            32776            33224                       -1.3   \n",
       "1    Trego    KS             2902             3001                       -3.3   \n",
       "2     Cass    NE            25524            25241                        1.1   \n",
       "3   Walton    GA            87615            83768                        4.6   \n",
       "4  Norfolk    MA           692254           670850                        3.2   \n",
       "\n",
       "   Percent Under 5 Years  Percent Under 18 Years  Percent 65 and Older  \\\n",
       "0                    6.9                    26.3                  15.8   \n",
       "1                    4.4                    18.0                  24.2   \n",
       "2                    6.0                    24.6                  16.1   \n",
       "3                    6.2                    25.9                  14.2   \n",
       "4                    5.4                    21.6                  15.7   \n",
       "\n",
       "   Percent Female  Percent White    ...      Median Household Income  \\\n",
       "0            50.5           97.8    ...                        48953   \n",
       "1            50.6           97.4    ...                        45714   \n",
       "2            49.6           97.0    ...                        64697   \n",
       "3            51.3           79.6    ...                        52369   \n",
       "4            52.1           80.9    ...                        84916   \n",
       "\n",
       "   Per Capita Income  Percent Below Poverty Level  \\\n",
       "0              21554                         13.9   \n",
       "1              23095                          6.7   \n",
       "2              29638                          6.4   \n",
       "3              22824                         13.8   \n",
       "4              44692                          6.6   \n",
       "\n",
       "   Accommodation and Food Services Sales  Manufacturers Shipments  \\\n",
       "0                                    250                    22834   \n",
       "1                                     40                        0   \n",
       "2                                    142                        0   \n",
       "3                                    583                     5918   \n",
       "4                                  12940                   103407   \n",
       "\n",
       "   Merchant Wholesaler Sales  Retail Sales  Retail Sales per Capita  \\\n",
       "0                          0          2235                     6579   \n",
       "1                        241           404                    13740   \n",
       "2                        990          1836                     7196   \n",
       "3                       2604          7971                     9577   \n",
       "4                     123988        112414                    17133   \n",
       "\n",
       "   Population per Square Mile  Land Area  \n",
       "0                        82.0     405.07  \n",
       "1                         3.4     889.48  \n",
       "2                        45.3     557.45  \n",
       "3                       257.2     325.68  \n",
       "4                      1693.6     396.11  \n",
       "\n",
       "[5 rows x 41 columns]"
      ]
     },
     "execution_count": 13,
     "metadata": {},
     "output_type": "execute_result"
    }
   ],
   "source": [
    "data1.head()"
   ]
  },
  {
   "cell_type": "code",
   "execution_count": 14,
   "metadata": {},
   "outputs": [
    {
     "data": {
      "text/html": [
       "<div>\n",
       "<style scoped>\n",
       "    .dataframe tbody tr th:only-of-type {\n",
       "        vertical-align: middle;\n",
       "    }\n",
       "\n",
       "    .dataframe tbody tr th {\n",
       "        vertical-align: top;\n",
       "    }\n",
       "\n",
       "    .dataframe thead th {\n",
       "        text-align: right;\n",
       "    }\n",
       "</style>\n",
       "<table border=\"1\" class=\"dataframe\">\n",
       "  <thead>\n",
       "    <tr style=\"text-align: right;\">\n",
       "      <th></th>\n",
       "      <th>County</th>\n",
       "      <th>State</th>\n",
       "      <th>Ben Carson.Number of Votes</th>\n",
       "      <th>Ben Carson.Party</th>\n",
       "      <th>Ben Carson.Percent of Votes</th>\n",
       "      <th>Bernie Sanders.Number of Votes</th>\n",
       "      <th>Bernie Sanders.Party</th>\n",
       "      <th>Bernie Sanders.Percent of Votes</th>\n",
       "      <th>Carly Fiorina.Number of Votes</th>\n",
       "      <th>Carly Fiorina.Party</th>\n",
       "      <th>...</th>\n",
       "      <th>Rick Santorum.Percent of Votes</th>\n",
       "      <th>Ted Cruz.Number of Votes</th>\n",
       "      <th>Ted Cruz.Party</th>\n",
       "      <th>Ted Cruz.Percent of Votes</th>\n",
       "      <th>No Preference.Number of Votes</th>\n",
       "      <th>No Preference.Party</th>\n",
       "      <th>No Preference.Percent of Votes</th>\n",
       "      <th>Uncommitted.Number of Votes</th>\n",
       "      <th>Uncommitted.Party</th>\n",
       "      <th>Uncommitted.Percent of Votes</th>\n",
       "    </tr>\n",
       "  </thead>\n",
       "  <tbody>\n",
       "    <tr>\n",
       "      <th>0</th>\n",
       "      <td>Clinton</td>\n",
       "      <td>IN</td>\n",
       "      <td>0</td>\n",
       "      <td>Republican</td>\n",
       "      <td>0.0</td>\n",
       "      <td>1046</td>\n",
       "      <td>Democrat</td>\n",
       "      <td>59.1</td>\n",
       "      <td>0</td>\n",
       "      <td>Republican</td>\n",
       "      <td>...</td>\n",
       "      <td>0.0</td>\n",
       "      <td>2637</td>\n",
       "      <td>Republican</td>\n",
       "      <td>39.9</td>\n",
       "      <td>0</td>\n",
       "      <td>NaN</td>\n",
       "      <td>0.0</td>\n",
       "      <td>0</td>\n",
       "      <td>NaN</td>\n",
       "      <td>0.0</td>\n",
       "    </tr>\n",
       "    <tr>\n",
       "      <th>1</th>\n",
       "      <td>Cass</td>\n",
       "      <td>NE</td>\n",
       "      <td>0</td>\n",
       "      <td>Republican</td>\n",
       "      <td>0.0</td>\n",
       "      <td>151</td>\n",
       "      <td>Democrat</td>\n",
       "      <td>53.4</td>\n",
       "      <td>0</td>\n",
       "      <td>Republican</td>\n",
       "      <td>...</td>\n",
       "      <td>0.0</td>\n",
       "      <td>673</td>\n",
       "      <td>Republican</td>\n",
       "      <td>22.5</td>\n",
       "      <td>0</td>\n",
       "      <td>NaN</td>\n",
       "      <td>0.0</td>\n",
       "      <td>0</td>\n",
       "      <td>NaN</td>\n",
       "      <td>0.0</td>\n",
       "    </tr>\n",
       "    <tr>\n",
       "      <th>2</th>\n",
       "      <td>Walton</td>\n",
       "      <td>GA</td>\n",
       "      <td>1046</td>\n",
       "      <td>Republican</td>\n",
       "      <td>5.5</td>\n",
       "      <td>969</td>\n",
       "      <td>Democrat</td>\n",
       "      <td>29.4</td>\n",
       "      <td>0</td>\n",
       "      <td>Republican</td>\n",
       "      <td>...</td>\n",
       "      <td>0.0</td>\n",
       "      <td>5883</td>\n",
       "      <td>Republican</td>\n",
       "      <td>30.9</td>\n",
       "      <td>0</td>\n",
       "      <td>NaN</td>\n",
       "      <td>0.0</td>\n",
       "      <td>0</td>\n",
       "      <td>NaN</td>\n",
       "      <td>0.0</td>\n",
       "    </tr>\n",
       "    <tr>\n",
       "      <th>3</th>\n",
       "      <td>Norfolk</td>\n",
       "      <td>MA</td>\n",
       "      <td>38</td>\n",
       "      <td>Republican</td>\n",
       "      <td>2.2</td>\n",
       "      <td>956</td>\n",
       "      <td>Democrat</td>\n",
       "      <td>55.3</td>\n",
       "      <td>0</td>\n",
       "      <td>Republican</td>\n",
       "      <td>...</td>\n",
       "      <td>0.0</td>\n",
       "      <td>153</td>\n",
       "      <td>Republican</td>\n",
       "      <td>8.8</td>\n",
       "      <td>6</td>\n",
       "      <td>NaN</td>\n",
       "      <td>0.3</td>\n",
       "      <td>0</td>\n",
       "      <td>NaN</td>\n",
       "      <td>0.0</td>\n",
       "    </tr>\n",
       "    <tr>\n",
       "      <th>4</th>\n",
       "      <td>Beaver</td>\n",
       "      <td>PA</td>\n",
       "      <td>0</td>\n",
       "      <td>Republican</td>\n",
       "      <td>0.0</td>\n",
       "      <td>9563</td>\n",
       "      <td>Democrat</td>\n",
       "      <td>41.8</td>\n",
       "      <td>0</td>\n",
       "      <td>Republican</td>\n",
       "      <td>...</td>\n",
       "      <td>0.0</td>\n",
       "      <td>4331</td>\n",
       "      <td>Republican</td>\n",
       "      <td>22.3</td>\n",
       "      <td>0</td>\n",
       "      <td>NaN</td>\n",
       "      <td>0.0</td>\n",
       "      <td>0</td>\n",
       "      <td>NaN</td>\n",
       "      <td>0.0</td>\n",
       "    </tr>\n",
       "  </tbody>\n",
       "</table>\n",
       "<p>5 rows × 50 columns</p>\n",
       "</div>"
      ],
      "text/plain": [
       "    County State  Ben Carson.Number of Votes Ben Carson.Party  \\\n",
       "0  Clinton    IN                           0       Republican   \n",
       "1     Cass    NE                           0       Republican   \n",
       "2   Walton    GA                        1046       Republican   \n",
       "3  Norfolk    MA                          38       Republican   \n",
       "4   Beaver    PA                           0       Republican   \n",
       "\n",
       "   Ben Carson.Percent of Votes  Bernie Sanders.Number of Votes  \\\n",
       "0                          0.0                            1046   \n",
       "1                          0.0                             151   \n",
       "2                          5.5                             969   \n",
       "3                          2.2                             956   \n",
       "4                          0.0                            9563   \n",
       "\n",
       "  Bernie Sanders.Party  Bernie Sanders.Percent of Votes  \\\n",
       "0             Democrat                             59.1   \n",
       "1             Democrat                             53.4   \n",
       "2             Democrat                             29.4   \n",
       "3             Democrat                             55.3   \n",
       "4             Democrat                             41.8   \n",
       "\n",
       "   Carly Fiorina.Number of Votes Carly Fiorina.Party  \\\n",
       "0                              0          Republican   \n",
       "1                              0          Republican   \n",
       "2                              0          Republican   \n",
       "3                              0          Republican   \n",
       "4                              0          Republican   \n",
       "\n",
       "               ...               Rick Santorum.Percent of Votes  \\\n",
       "0              ...                                          0.0   \n",
       "1              ...                                          0.0   \n",
       "2              ...                                          0.0   \n",
       "3              ...                                          0.0   \n",
       "4              ...                                          0.0   \n",
       "\n",
       "   Ted Cruz.Number of Votes Ted Cruz.Party  Ted Cruz.Percent of Votes  \\\n",
       "0                      2637     Republican                       39.9   \n",
       "1                       673     Republican                       22.5   \n",
       "2                      5883     Republican                       30.9   \n",
       "3                       153     Republican                        8.8   \n",
       "4                      4331     Republican                       22.3   \n",
       "\n",
       "   No Preference.Number of Votes No Preference.Party  \\\n",
       "0                              0                 NaN   \n",
       "1                              0                 NaN   \n",
       "2                              0                 NaN   \n",
       "3                              6                 NaN   \n",
       "4                              0                 NaN   \n",
       "\n",
       "   No Preference.Percent of Votes  Uncommitted.Number of Votes  \\\n",
       "0                             0.0                            0   \n",
       "1                             0.0                            0   \n",
       "2                             0.0                            0   \n",
       "3                             0.3                            0   \n",
       "4                             0.0                            0   \n",
       "\n",
       "  Uncommitted.Party  Uncommitted.Percent of Votes  \n",
       "0               NaN                           0.0  \n",
       "1               NaN                           0.0  \n",
       "2               NaN                           0.0  \n",
       "3               NaN                           0.0  \n",
       "4               NaN                           0.0  \n",
       "\n",
       "[5 rows x 50 columns]"
      ]
     },
     "execution_count": 14,
     "metadata": {},
     "output_type": "execute_result"
    }
   ],
   "source": [
    "data2.head()"
   ]
  },
  {
   "cell_type": "code",
   "execution_count": 15,
   "metadata": {},
   "outputs": [],
   "source": [
    "# Question 1: Merging dataframes\n",
    "final_df = pd.merge(data2,data1,how = 'inner', on = ['County','State'])"
   ]
  },
  {
   "cell_type": "code",
   "execution_count": 16,
   "metadata": {},
   "outputs": [
    {
     "data": {
      "text/html": [
       "<div>\n",
       "<style scoped>\n",
       "    .dataframe tbody tr th:only-of-type {\n",
       "        vertical-align: middle;\n",
       "    }\n",
       "\n",
       "    .dataframe tbody tr th {\n",
       "        vertical-align: top;\n",
       "    }\n",
       "\n",
       "    .dataframe thead th {\n",
       "        text-align: right;\n",
       "    }\n",
       "</style>\n",
       "<table border=\"1\" class=\"dataframe\">\n",
       "  <thead>\n",
       "    <tr style=\"text-align: right;\">\n",
       "      <th></th>\n",
       "      <th>County</th>\n",
       "      <th>State</th>\n",
       "      <th>Ben Carson.Number of Votes</th>\n",
       "      <th>Ben Carson.Party</th>\n",
       "      <th>Ben Carson.Percent of Votes</th>\n",
       "      <th>Bernie Sanders.Number of Votes</th>\n",
       "      <th>Bernie Sanders.Party</th>\n",
       "      <th>Bernie Sanders.Percent of Votes</th>\n",
       "      <th>Carly Fiorina.Number of Votes</th>\n",
       "      <th>Carly Fiorina.Party</th>\n",
       "      <th>...</th>\n",
       "      <th>Median Household Income</th>\n",
       "      <th>Per Capita Income</th>\n",
       "      <th>Percent Below Poverty Level</th>\n",
       "      <th>Accommodation and Food Services Sales</th>\n",
       "      <th>Manufacturers Shipments</th>\n",
       "      <th>Merchant Wholesaler Sales</th>\n",
       "      <th>Retail Sales</th>\n",
       "      <th>Retail Sales per Capita</th>\n",
       "      <th>Population per Square Mile</th>\n",
       "      <th>Land Area</th>\n",
       "    </tr>\n",
       "  </thead>\n",
       "  <tbody>\n",
       "    <tr>\n",
       "      <th>0</th>\n",
       "      <td>Clinton</td>\n",
       "      <td>IN</td>\n",
       "      <td>0</td>\n",
       "      <td>Republican</td>\n",
       "      <td>0.0</td>\n",
       "      <td>1046</td>\n",
       "      <td>Democrat</td>\n",
       "      <td>59.1</td>\n",
       "      <td>0</td>\n",
       "      <td>Republican</td>\n",
       "      <td>...</td>\n",
       "      <td>48953</td>\n",
       "      <td>21554</td>\n",
       "      <td>13.9</td>\n",
       "      <td>250</td>\n",
       "      <td>22834</td>\n",
       "      <td>0</td>\n",
       "      <td>2235</td>\n",
       "      <td>6579</td>\n",
       "      <td>82.0</td>\n",
       "      <td>405.07</td>\n",
       "    </tr>\n",
       "    <tr>\n",
       "      <th>1</th>\n",
       "      <td>Cass</td>\n",
       "      <td>NE</td>\n",
       "      <td>0</td>\n",
       "      <td>Republican</td>\n",
       "      <td>0.0</td>\n",
       "      <td>151</td>\n",
       "      <td>Democrat</td>\n",
       "      <td>53.4</td>\n",
       "      <td>0</td>\n",
       "      <td>Republican</td>\n",
       "      <td>...</td>\n",
       "      <td>64697</td>\n",
       "      <td>29638</td>\n",
       "      <td>6.4</td>\n",
       "      <td>142</td>\n",
       "      <td>0</td>\n",
       "      <td>990</td>\n",
       "      <td>1836</td>\n",
       "      <td>7196</td>\n",
       "      <td>45.3</td>\n",
       "      <td>557.45</td>\n",
       "    </tr>\n",
       "    <tr>\n",
       "      <th>2</th>\n",
       "      <td>Walton</td>\n",
       "      <td>GA</td>\n",
       "      <td>1046</td>\n",
       "      <td>Republican</td>\n",
       "      <td>5.5</td>\n",
       "      <td>969</td>\n",
       "      <td>Democrat</td>\n",
       "      <td>29.4</td>\n",
       "      <td>0</td>\n",
       "      <td>Republican</td>\n",
       "      <td>...</td>\n",
       "      <td>52369</td>\n",
       "      <td>22824</td>\n",
       "      <td>13.8</td>\n",
       "      <td>583</td>\n",
       "      <td>5918</td>\n",
       "      <td>2604</td>\n",
       "      <td>7971</td>\n",
       "      <td>9577</td>\n",
       "      <td>257.2</td>\n",
       "      <td>325.68</td>\n",
       "    </tr>\n",
       "    <tr>\n",
       "      <th>3</th>\n",
       "      <td>Norfolk</td>\n",
       "      <td>MA</td>\n",
       "      <td>38</td>\n",
       "      <td>Republican</td>\n",
       "      <td>2.2</td>\n",
       "      <td>956</td>\n",
       "      <td>Democrat</td>\n",
       "      <td>55.3</td>\n",
       "      <td>0</td>\n",
       "      <td>Republican</td>\n",
       "      <td>...</td>\n",
       "      <td>84916</td>\n",
       "      <td>44692</td>\n",
       "      <td>6.6</td>\n",
       "      <td>12940</td>\n",
       "      <td>103407</td>\n",
       "      <td>123988</td>\n",
       "      <td>112414</td>\n",
       "      <td>17133</td>\n",
       "      <td>1693.6</td>\n",
       "      <td>396.11</td>\n",
       "    </tr>\n",
       "    <tr>\n",
       "      <th>4</th>\n",
       "      <td>Beaver</td>\n",
       "      <td>PA</td>\n",
       "      <td>0</td>\n",
       "      <td>Republican</td>\n",
       "      <td>0.0</td>\n",
       "      <td>9563</td>\n",
       "      <td>Democrat</td>\n",
       "      <td>41.8</td>\n",
       "      <td>0</td>\n",
       "      <td>Republican</td>\n",
       "      <td>...</td>\n",
       "      <td>49217</td>\n",
       "      <td>26258</td>\n",
       "      <td>12.2</td>\n",
       "      <td>1563</td>\n",
       "      <td>47088</td>\n",
       "      <td>11800</td>\n",
       "      <td>15552</td>\n",
       "      <td>8989</td>\n",
       "      <td>392.3</td>\n",
       "      <td>434.71</td>\n",
       "    </tr>\n",
       "  </tbody>\n",
       "</table>\n",
       "<p>5 rows × 89 columns</p>\n",
       "</div>"
      ],
      "text/plain": [
       "    County State  Ben Carson.Number of Votes Ben Carson.Party  \\\n",
       "0  Clinton    IN                           0       Republican   \n",
       "1     Cass    NE                           0       Republican   \n",
       "2   Walton    GA                        1046       Republican   \n",
       "3  Norfolk    MA                          38       Republican   \n",
       "4   Beaver    PA                           0       Republican   \n",
       "\n",
       "   Ben Carson.Percent of Votes  Bernie Sanders.Number of Votes  \\\n",
       "0                          0.0                            1046   \n",
       "1                          0.0                             151   \n",
       "2                          5.5                             969   \n",
       "3                          2.2                             956   \n",
       "4                          0.0                            9563   \n",
       "\n",
       "  Bernie Sanders.Party  Bernie Sanders.Percent of Votes  \\\n",
       "0             Democrat                             59.1   \n",
       "1             Democrat                             53.4   \n",
       "2             Democrat                             29.4   \n",
       "3             Democrat                             55.3   \n",
       "4             Democrat                             41.8   \n",
       "\n",
       "   Carly Fiorina.Number of Votes Carly Fiorina.Party    ...      \\\n",
       "0                              0          Republican    ...       \n",
       "1                              0          Republican    ...       \n",
       "2                              0          Republican    ...       \n",
       "3                              0          Republican    ...       \n",
       "4                              0          Republican    ...       \n",
       "\n",
       "   Median Household Income  Per Capita Income Percent Below Poverty Level  \\\n",
       "0                    48953              21554                        13.9   \n",
       "1                    64697              29638                         6.4   \n",
       "2                    52369              22824                        13.8   \n",
       "3                    84916              44692                         6.6   \n",
       "4                    49217              26258                        12.2   \n",
       "\n",
       "   Accommodation and Food Services Sales  Manufacturers Shipments  \\\n",
       "0                                    250                    22834   \n",
       "1                                    142                        0   \n",
       "2                                    583                     5918   \n",
       "3                                  12940                   103407   \n",
       "4                                   1563                    47088   \n",
       "\n",
       "  Merchant Wholesaler Sales  Retail Sales  Retail Sales per Capita  \\\n",
       "0                         0          2235                     6579   \n",
       "1                       990          1836                     7196   \n",
       "2                      2604          7971                     9577   \n",
       "3                    123988        112414                    17133   \n",
       "4                     11800         15552                     8989   \n",
       "\n",
       "  Population per Square Mile  Land Area  \n",
       "0                       82.0     405.07  \n",
       "1                       45.3     557.45  \n",
       "2                      257.2     325.68  \n",
       "3                     1693.6     396.11  \n",
       "4                      392.3     434.71  \n",
       "\n",
       "[5 rows x 89 columns]"
      ]
     },
     "execution_count": 16,
     "metadata": {},
     "output_type": "execute_result"
    }
   ],
   "source": [
    "final_df.head()"
   ]
  },
  {
   "cell_type": "code",
   "execution_count": 17,
   "metadata": {},
   "outputs": [
    {
     "data": {
      "text/plain": [
       "(2114, 89)"
      ]
     },
     "execution_count": 17,
     "metadata": {},
     "output_type": "execute_result"
    }
   ],
   "source": [
    "final_df.shape"
   ]
  },
  {
   "cell_type": "code",
   "execution_count": 18,
   "metadata": {},
   "outputs": [
    {
     "name": "stdout",
     "output_type": "stream",
     "text": [
      "<class 'pandas.core.frame.DataFrame'>\n",
      "Int64Index: 2114 entries, 0 to 2113\n",
      "Data columns (total 89 columns):\n",
      "County                                                2114 non-null object\n",
      "State                                                 2114 non-null object\n",
      "Ben Carson.Number of Votes                            2114 non-null int64\n",
      "Ben Carson.Party                                      2114 non-null object\n",
      "Ben Carson.Percent of Votes                           2114 non-null float64\n",
      "Bernie Sanders.Number of Votes                        2114 non-null int64\n",
      "Bernie Sanders.Party                                  2114 non-null object\n",
      "Bernie Sanders.Percent of Votes                       2114 non-null float64\n",
      "Carly Fiorina.Number of Votes                         2114 non-null int64\n",
      "Carly Fiorina.Party                                   2114 non-null object\n",
      "Carly Fiorina.Percent of Votes                        2114 non-null float64\n",
      "Chris Christie.Number of Votes                        2114 non-null int64\n",
      "Chris Christie.Party                                  2114 non-null object\n",
      "Chris Christie.Percent of Votes                       2114 non-null float64\n",
      "Donald Trump.Number of Votes                          2114 non-null int64\n",
      "Donald Trump.Party                                    2114 non-null object\n",
      "Donald Trump.Percent of Votes                         2114 non-null float64\n",
      "Hillary Clinton.Number of Votes                       2114 non-null int64\n",
      "Hillary Clinton.Party                                 2114 non-null object\n",
      "Hillary Clinton.Percent of Votes                      2114 non-null float64\n",
      "Jeb Bush.Number of Votes                              2114 non-null int64\n",
      "Jeb Bush.Party                                        2114 non-null object\n",
      "Jeb Bush.Percent of Votes                             2114 non-null float64\n",
      "John Kasich.Number of Votes                           2114 non-null int64\n",
      "John Kasich.Party                                     2114 non-null object\n",
      "John Kasich.Percent of Votes                          2114 non-null float64\n",
      "Marco Rubio.Number of Votes                           2114 non-null int64\n",
      "Marco Rubio.Party                                     2114 non-null object\n",
      "Marco Rubio.Percent of Votes                          2114 non-null float64\n",
      "Martin O'Malley.Number of Votes                       2114 non-null int64\n",
      "Martin O'Malley.Party                                 2114 non-null object\n",
      "Martin O'Malley.Percent of Votes                      2114 non-null float64\n",
      "Mike Huckabee.Number of Votes                         2114 non-null int64\n",
      "Mike Huckabee.Party                                   2114 non-null object\n",
      "Mike Huckabee.Percent of Votes                        2114 non-null float64\n",
      "Rand Paul.Number of Votes                             2114 non-null int64\n",
      "Rand Paul.Party                                       2114 non-null object\n",
      "Rand Paul.Percent of Votes                            2114 non-null float64\n",
      "Rick Santorum.Number of Votes                         2114 non-null int64\n",
      "Rick Santorum.Party                                   2114 non-null object\n",
      "Rick Santorum.Percent of Votes                        2114 non-null float64\n",
      "Ted Cruz.Number of Votes                              2114 non-null int64\n",
      "Ted Cruz.Party                                        2114 non-null object\n",
      "Ted Cruz.Percent of Votes                             2114 non-null float64\n",
      "No Preference.Number of Votes                         2114 non-null int64\n",
      "No Preference.Party                                   0 non-null float64\n",
      "No Preference.Percent of Votes                        2114 non-null float64\n",
      "Uncommitted.Number of Votes                           2114 non-null int64\n",
      "Uncommitted.Party                                     0 non-null float64\n",
      "Uncommitted.Percent of Votes                          2114 non-null float64\n",
      "2014 Population                                       2114 non-null int64\n",
      "2010 Population                                       2114 non-null int64\n",
      "Population Percent Change                             2114 non-null float64\n",
      "Percent Under 5 Years                                 2114 non-null float64\n",
      "Percent Under 18 Years                                2114 non-null float64\n",
      "Percent 65 and Older                                  2114 non-null float64\n",
      "Percent Female                                        2114 non-null float64\n",
      "Percent White                                         2114 non-null float64\n",
      "Percent Black or African American                     2114 non-null float64\n",
      "Percent American Indian and Alaska Native             2114 non-null float64\n",
      "Percent Asian                                         2114 non-null float64\n",
      "Percent Native Hawaiian and Other Pacific Islander    2114 non-null float64\n",
      "Percent Two or More Races                             2114 non-null float64\n",
      "Percent Hispanic or Latino                            2114 non-null float64\n",
      "Percent White, not Hispanic or Latino                 2114 non-null float64\n",
      "Veterans                                              2114 non-null int64\n",
      "Percent Foreign Born                                  2114 non-null float64\n",
      "Percent High School or Higher                         2114 non-null float64\n",
      "Percent Bachelor's Degree or Higher                   2114 non-null float64\n",
      "Housing Units                                         2114 non-null int64\n",
      "Percent Housing Units in Multi-Unit Structures        2114 non-null float64\n",
      "Homeownership Rate                                    2114 non-null float64\n",
      "Median Value of Owner-Occupied Units                  2114 non-null int64\n",
      "Building Permits                                      2114 non-null int64\n",
      "Households                                            2114 non-null int64\n",
      "Persons per Household                                 2114 non-null float64\n",
      "Percent Living in Same House +1 Years                 2114 non-null float64\n",
      "Percent Language Other than English at Home           2114 non-null float64\n",
      "Mean Travel Time to Work                              2114 non-null float64\n",
      "Median Household Income                               2114 non-null int64\n",
      "Per Capita Income                                     2114 non-null int64\n",
      "Percent Below Poverty Level                           2114 non-null float64\n",
      "Accommodation and Food Services Sales                 2114 non-null int64\n",
      "Manufacturers Shipments                               2114 non-null int64\n",
      "Merchant Wholesaler Sales                             2114 non-null int64\n",
      "Retail Sales                                          2114 non-null int64\n",
      "Retail Sales per Capita                               2114 non-null int64\n",
      "Population per Square Mile                            2114 non-null float64\n",
      "Land Area                                             2114 non-null float64\n",
      "dtypes: float64(43), int64(30), object(16)\n",
      "memory usage: 1.5+ MB\n"
     ]
    }
   ],
   "source": [
    "# Question 2: Explore merged dataset\n",
    "final_df.info()"
   ]
  },
  {
   "cell_type": "code",
   "execution_count": 19,
   "metadata": {},
   "outputs": [],
   "source": [
    "# Dropping variables with missing/NaN values\n",
    "final_df = final_df.dropna(axis = 1)"
   ]
  },
  {
   "cell_type": "code",
   "execution_count": 20,
   "metadata": {},
   "outputs": [],
   "source": [
    "# Question 3: Democratic Variable\n",
    "final_df['Democratic'] = final_df['Bernie Sanders.Number of Votes']+ final_df['Hillary Clinton.Number of Votes'] + final_df['Martin O\\'Malley.Number of Votes']"
   ]
  },
  {
   "cell_type": "code",
   "execution_count": 21,
   "metadata": {},
   "outputs": [],
   "source": [
    "# Question 4: Republic Variable\n",
    "final_df['Republic'] = final_df['Ben Carson.Number of Votes']+ final_df['Carly Fiorina.Number of Votes'] + final_df['Chris Christie.Number of Votes'] + final_df['Donald Trump.Number of Votes'] + final_df['Jeb Bush.Number of Votes'] + final_df['John Kasich.Number of Votes'] + final_df['Marco Rubio.Number of Votes'] + final_df['Mike Huckabee.Number of Votes'] + final_df['Rand Paul.Number of Votes'] + final_df['Rick Santorum.Number of Votes'] + final_df['Ted Cruz.Number of Votes']"
   ]
  },
  {
   "cell_type": "code",
   "execution_count": 22,
   "metadata": {},
   "outputs": [],
   "source": [
    "# Question 5\n",
    "final_df['Party'] = final_df['Democratic']>final_df['Republic']\n",
    "final_df['Party'] = final_df['Party'].astype('int64')"
   ]
  },
  {
   "cell_type": "code",
   "execution_count": 23,
   "metadata": {
    "scrolled": true
   },
   "outputs": [
    {
     "data": {
      "text/html": [
       "<div>\n",
       "<style scoped>\n",
       "    .dataframe tbody tr th:only-of-type {\n",
       "        vertical-align: middle;\n",
       "    }\n",
       "\n",
       "    .dataframe tbody tr th {\n",
       "        vertical-align: top;\n",
       "    }\n",
       "\n",
       "    .dataframe thead th {\n",
       "        text-align: right;\n",
       "    }\n",
       "</style>\n",
       "<table border=\"1\" class=\"dataframe\">\n",
       "  <thead>\n",
       "    <tr style=\"text-align: right;\">\n",
       "      <th></th>\n",
       "      <th>County</th>\n",
       "      <th>State</th>\n",
       "      <th>Ben Carson.Number of Votes</th>\n",
       "      <th>Ben Carson.Party</th>\n",
       "      <th>Ben Carson.Percent of Votes</th>\n",
       "      <th>Bernie Sanders.Number of Votes</th>\n",
       "      <th>Bernie Sanders.Party</th>\n",
       "      <th>Bernie Sanders.Percent of Votes</th>\n",
       "      <th>Carly Fiorina.Number of Votes</th>\n",
       "      <th>Carly Fiorina.Party</th>\n",
       "      <th>...</th>\n",
       "      <th>Accommodation and Food Services Sales</th>\n",
       "      <th>Manufacturers Shipments</th>\n",
       "      <th>Merchant Wholesaler Sales</th>\n",
       "      <th>Retail Sales</th>\n",
       "      <th>Retail Sales per Capita</th>\n",
       "      <th>Population per Square Mile</th>\n",
       "      <th>Land Area</th>\n",
       "      <th>Democratic</th>\n",
       "      <th>Republic</th>\n",
       "      <th>Party</th>\n",
       "    </tr>\n",
       "  </thead>\n",
       "  <tbody>\n",
       "    <tr>\n",
       "      <th>0</th>\n",
       "      <td>Clinton</td>\n",
       "      <td>IN</td>\n",
       "      <td>0</td>\n",
       "      <td>Republican</td>\n",
       "      <td>0.0</td>\n",
       "      <td>1046</td>\n",
       "      <td>Democrat</td>\n",
       "      <td>59.1</td>\n",
       "      <td>0</td>\n",
       "      <td>Republican</td>\n",
       "      <td>...</td>\n",
       "      <td>250</td>\n",
       "      <td>22834</td>\n",
       "      <td>0</td>\n",
       "      <td>2235</td>\n",
       "      <td>6579</td>\n",
       "      <td>82.0</td>\n",
       "      <td>405.07</td>\n",
       "      <td>1770</td>\n",
       "      <td>6363</td>\n",
       "      <td>0</td>\n",
       "    </tr>\n",
       "    <tr>\n",
       "      <th>1</th>\n",
       "      <td>Cass</td>\n",
       "      <td>NE</td>\n",
       "      <td>0</td>\n",
       "      <td>Republican</td>\n",
       "      <td>0.0</td>\n",
       "      <td>151</td>\n",
       "      <td>Democrat</td>\n",
       "      <td>53.4</td>\n",
       "      <td>0</td>\n",
       "      <td>Republican</td>\n",
       "      <td>...</td>\n",
       "      <td>142</td>\n",
       "      <td>0</td>\n",
       "      <td>990</td>\n",
       "      <td>1836</td>\n",
       "      <td>7196</td>\n",
       "      <td>45.3</td>\n",
       "      <td>557.45</td>\n",
       "      <td>283</td>\n",
       "      <td>2767</td>\n",
       "      <td>0</td>\n",
       "    </tr>\n",
       "    <tr>\n",
       "      <th>2</th>\n",
       "      <td>Walton</td>\n",
       "      <td>GA</td>\n",
       "      <td>1046</td>\n",
       "      <td>Republican</td>\n",
       "      <td>5.5</td>\n",
       "      <td>969</td>\n",
       "      <td>Democrat</td>\n",
       "      <td>29.4</td>\n",
       "      <td>0</td>\n",
       "      <td>Republican</td>\n",
       "      <td>...</td>\n",
       "      <td>583</td>\n",
       "      <td>5918</td>\n",
       "      <td>2604</td>\n",
       "      <td>7971</td>\n",
       "      <td>9577</td>\n",
       "      <td>257.2</td>\n",
       "      <td>325.68</td>\n",
       "      <td>3278</td>\n",
       "      <td>18818</td>\n",
       "      <td>0</td>\n",
       "    </tr>\n",
       "    <tr>\n",
       "      <th>3</th>\n",
       "      <td>Norfolk</td>\n",
       "      <td>MA</td>\n",
       "      <td>38</td>\n",
       "      <td>Republican</td>\n",
       "      <td>2.2</td>\n",
       "      <td>956</td>\n",
       "      <td>Democrat</td>\n",
       "      <td>55.3</td>\n",
       "      <td>0</td>\n",
       "      <td>Republican</td>\n",
       "      <td>...</td>\n",
       "      <td>12940</td>\n",
       "      <td>103407</td>\n",
       "      <td>123988</td>\n",
       "      <td>112414</td>\n",
       "      <td>17133</td>\n",
       "      <td>1693.6</td>\n",
       "      <td>396.11</td>\n",
       "      <td>1716</td>\n",
       "      <td>1686</td>\n",
       "      <td>1</td>\n",
       "    </tr>\n",
       "    <tr>\n",
       "      <th>4</th>\n",
       "      <td>Beaver</td>\n",
       "      <td>PA</td>\n",
       "      <td>0</td>\n",
       "      <td>Republican</td>\n",
       "      <td>0.0</td>\n",
       "      <td>9563</td>\n",
       "      <td>Democrat</td>\n",
       "      <td>41.8</td>\n",
       "      <td>0</td>\n",
       "      <td>Republican</td>\n",
       "      <td>...</td>\n",
       "      <td>1563</td>\n",
       "      <td>47088</td>\n",
       "      <td>11800</td>\n",
       "      <td>15552</td>\n",
       "      <td>8989</td>\n",
       "      <td>392.3</td>\n",
       "      <td>434.71</td>\n",
       "      <td>22526</td>\n",
       "      <td>19081</td>\n",
       "      <td>1</td>\n",
       "    </tr>\n",
       "  </tbody>\n",
       "</table>\n",
       "<p>5 rows × 90 columns</p>\n",
       "</div>"
      ],
      "text/plain": [
       "    County State  Ben Carson.Number of Votes Ben Carson.Party  \\\n",
       "0  Clinton    IN                           0       Republican   \n",
       "1     Cass    NE                           0       Republican   \n",
       "2   Walton    GA                        1046       Republican   \n",
       "3  Norfolk    MA                          38       Republican   \n",
       "4   Beaver    PA                           0       Republican   \n",
       "\n",
       "   Ben Carson.Percent of Votes  Bernie Sanders.Number of Votes  \\\n",
       "0                          0.0                            1046   \n",
       "1                          0.0                             151   \n",
       "2                          5.5                             969   \n",
       "3                          2.2                             956   \n",
       "4                          0.0                            9563   \n",
       "\n",
       "  Bernie Sanders.Party  Bernie Sanders.Percent of Votes  \\\n",
       "0             Democrat                             59.1   \n",
       "1             Democrat                             53.4   \n",
       "2             Democrat                             29.4   \n",
       "3             Democrat                             55.3   \n",
       "4             Democrat                             41.8   \n",
       "\n",
       "   Carly Fiorina.Number of Votes Carly Fiorina.Party  ...    \\\n",
       "0                              0          Republican  ...     \n",
       "1                              0          Republican  ...     \n",
       "2                              0          Republican  ...     \n",
       "3                              0          Republican  ...     \n",
       "4                              0          Republican  ...     \n",
       "\n",
       "   Accommodation and Food Services Sales  Manufacturers Shipments  \\\n",
       "0                                    250                    22834   \n",
       "1                                    142                        0   \n",
       "2                                    583                     5918   \n",
       "3                                  12940                   103407   \n",
       "4                                   1563                    47088   \n",
       "\n",
       "  Merchant Wholesaler Sales  Retail Sales  Retail Sales per Capita  \\\n",
       "0                         0          2235                     6579   \n",
       "1                       990          1836                     7196   \n",
       "2                      2604          7971                     9577   \n",
       "3                    123988        112414                    17133   \n",
       "4                     11800         15552                     8989   \n",
       "\n",
       "  Population per Square Mile  Land Area  Democratic Republic  Party  \n",
       "0                       82.0     405.07        1770     6363      0  \n",
       "1                       45.3     557.45         283     2767      0  \n",
       "2                      257.2     325.68        3278    18818      0  \n",
       "3                     1693.6     396.11        1716     1686      1  \n",
       "4                      392.3     434.71       22526    19081      1  \n",
       "\n",
       "[5 rows x 90 columns]"
      ]
     },
     "execution_count": 23,
     "metadata": {},
     "output_type": "execute_result"
    }
   ],
   "source": [
    "final_df.head()"
   ]
  },
  {
   "cell_type": "code",
   "execution_count": 24,
   "metadata": {},
   "outputs": [],
   "source": [
    "democratic_df = final_df[final_df['Party']==1]\n",
    "republic_df = final_df[final_df['Party']==0]"
   ]
  },
  {
   "cell_type": "code",
   "execution_count": 25,
   "metadata": {},
   "outputs": [
    {
     "name": "stdout",
     "output_type": "stream",
     "text": [
      "185786.7245614035\n",
      "78017.03367875647\n"
     ]
    }
   ],
   "source": [
    "# Question 6: Mean Populations of democratic and republic counties\n",
    "population_demo_2014 = democratic_df['2014 Population']\n",
    "population_repub_2014 = republic_df['2014 Population']\n",
    "print(population_demo_2014.mean())\n",
    "print(population_repub_2014.mean())"
   ]
  },
  {
   "cell_type": "code",
   "execution_count": 26,
   "metadata": {},
   "outputs": [
    {
     "data": {
      "text/plain": [
       "Ttest_indResult(statistic=4.542770974447139, pvalue=6.625789772513302e-06)"
      ]
     },
     "execution_count": 26,
     "metadata": {},
     "output_type": "execute_result"
    }
   ],
   "source": [
    "# Hypotheses Test Statisctics\n",
    "from scipy import stats\n",
    "stats.ttest_ind_from_stats(population_demo_2014.mean(),population_demo_2014.std(),len(population_demo_2014),population_repub_2014.mean(),population_repub_2014.std(),len(population_repub_2014), equal_var= False)"
   ]
  },
  {
   "cell_type": "code",
   "execution_count": 27,
   "metadata": {},
   "outputs": [
    {
     "name": "stdout",
     "output_type": "stream",
     "text": [
      "45643.87192982456\n",
      "45265.62176165803\n"
     ]
    }
   ],
   "source": [
    "# Question 7: Mean household income of democratic and republic counties\n",
    "house_inc_demo = democratic_df['Median Household Income']\n",
    "house_inc_repub = republic_df['Median Household Income']\n",
    "print(house_inc_demo.mean())\n",
    "print(house_inc_repub.mean())"
   ]
  },
  {
   "cell_type": "code",
   "execution_count": 28,
   "metadata": {},
   "outputs": [
    {
     "data": {
      "text/plain": [
       "Ttest_indResult(statistic=0.5414236217556205, pvalue=0.5883705476929035)"
      ]
     },
     "execution_count": 28,
     "metadata": {},
     "output_type": "execute_result"
    }
   ],
   "source": [
    "stats.ttest_ind_from_stats(house_inc_demo.mean(),house_inc_demo.std(),len(house_inc_demo),house_inc_repub.mean(),house_inc_repub.std(),len(house_inc_repub), equal_var= False)"
   ]
  },
  {
   "cell_type": "code",
   "execution_count": 29,
   "metadata": {},
   "outputs": [],
   "source": [
    "final_df['Percent 18 to 65'] = (100-final_df['Percent Under 5 Years']-final_df['Percent Under 18 Years']-final_df['Percent 65 and Older'])"
   ]
  },
  {
   "cell_type": "code",
   "execution_count": 30,
   "metadata": {},
   "outputs": [],
   "source": [
    "final_df['Total votes cast'] = final_df['Democratic'] + final_df['Republic']"
   ]
  },
  {
   "cell_type": "code",
   "execution_count": 31,
   "metadata": {},
   "outputs": [],
   "source": [
    "# Question 8\n",
    "import seaborn as sns"
   ]
  },
  {
   "cell_type": "code",
   "execution_count": 32,
   "metadata": {},
   "outputs": [],
   "source": [
    "democratic_df = final_df[final_df['Party']==1]\n",
    "republic_df = final_df[final_df['Party']==0]"
   ]
  },
  {
   "cell_type": "code",
   "execution_count": 33,
   "metadata": {},
   "outputs": [
    {
     "data": {
      "text/plain": [
       "185786.7245614035"
      ]
     },
     "execution_count": 33,
     "metadata": {},
     "output_type": "execute_result"
    }
   ],
   "source": [
    "# Party Vs Population\n",
    "democratic_df['2014 Population'].mean()"
   ]
  },
  {
   "cell_type": "code",
   "execution_count": 34,
   "metadata": {},
   "outputs": [
    {
     "data": {
      "text/plain": [
       "78017.03367875647"
      ]
     },
     "execution_count": 34,
     "metadata": {},
     "output_type": "execute_result"
    }
   ],
   "source": [
    "republic_df['2014 Population'].mean()"
   ]
  },
  {
   "cell_type": "code",
   "execution_count": 35,
   "metadata": {},
   "outputs": [
    {
     "data": {
      "text/plain": [
       "Ttest_indResult(statistic=4.542770974447139, pvalue=6.625789772513302e-06)"
      ]
     },
     "execution_count": 35,
     "metadata": {},
     "output_type": "execute_result"
    }
   ],
   "source": [
    "# Population hypotheses test statistic\n",
    "stats.ttest_ind_from_stats(democratic_df['2014 Population'].mean(),democratic_df['2014 Population'].std(),len(democratic_df['2014 Population']),republic_df['2014 Population'].mean(),republic_df['2014 Population'].std(),len(republic_df['2014 Population']), equal_var= False)"
   ]
  },
  {
   "cell_type": "code",
   "execution_count": 36,
   "metadata": {},
   "outputs": [
    {
     "data": {
      "text/plain": [
       "[Text(0,0.5,'Mean Population 2014'),\n",
       " Text(0.5,0,'Party'),\n",
       " Text(0.5,1,'Total Mean Population by County')]"
      ]
     },
     "execution_count": 36,
     "metadata": {},
     "output_type": "execute_result"
    },
    {
     "data": {
      "image/png": "[encoded data removed]",
      "text/plain": [
       "<Figure size 432x288 with 1 Axes>"
      ]
     },
     "metadata": {},
     "output_type": "display_data"
    }
   ],
   "source": [
    "ax = sns.barplot(x = 'Party' , y = '2014 Population', data = final_df , palette= 'rocket')\n",
    "ax.set(title = 'Total Mean Population by County', xlabel = 'Party', ylabel = 'Mean Population 2014')"
   ]
  },
  {
   "cell_type": "code",
   "execution_count": 37,
   "metadata": {},
   "outputs": [
    {
     "data": {
      "text/plain": [
       "[Text(0,0.5,'Total No. of Counties'),\n",
       " Text(0.5,0,'Party'),\n",
       " Text(0.5,1,'Total counties by Party')]"
      ]
     },
     "execution_count": 37,
     "metadata": {},
     "output_type": "execute_result"
    },
    {
     "data": {
      "image/png": "[encoded data removed]",
      "text/plain": [
       "<Figure size 432x288 with 1 Axes>"
      ]
     },
     "metadata": {},
     "output_type": "display_data"
    }
   ],
   "source": [
    "# Count of total counties by party\n",
    "ax = sns.countplot(x = \"Party\" , data = final_df, palette='deep')\n",
    "ax.set(title = 'Total counties by Party', xlabel = 'Party', ylabel = 'Total No. of Counties')"
   ]
  },
  {
   "cell_type": "code",
   "execution_count": 38,
   "metadata": {},
   "outputs": [
    {
     "data": {
      "text/plain": [
       "[Text(0,0.5,'Total votes cast'),\n",
       " Text(0.5,0,'Party'),\n",
       " Text(0.5,1,'Total votes cast in 2014 by county')]"
      ]
     },
     "execution_count": 38,
     "metadata": {},
     "output_type": "execute_result"
    },
    {
     "data": {
      "image/png": "[encoded data removed]",
      "text/plain": [
       "<Figure size 432x288 with 1 Axes>"
      ]
     },
     "metadata": {},
     "output_type": "display_data"
    }
   ],
   "source": [
    "# Total votes cast by county\n",
    "ax = sns.barplot(x = 'Party' , y = 'Total votes cast', data = final_df, estimator=sum, palette= 'rocket')\n",
    "ax.set(title = 'Total votes cast in 2014 by county', xlabel = 'Party', ylabel = 'Total votes cast')"
   ]
  },
  {
   "cell_type": "code",
   "execution_count": 39,
   "metadata": {},
   "outputs": [
    {
     "data": {
      "text/plain": [
       "15.024561403508756"
      ]
     },
     "execution_count": 39,
     "metadata": {},
     "output_type": "execute_result"
    }
   ],
   "source": [
    "# Party Vs Race (Black or African American)\n",
    "democratic_df['Percent Black or African American'].mean()"
   ]
  },
  {
   "cell_type": "code",
   "execution_count": 40,
   "metadata": {},
   "outputs": [
    {
     "data": {
      "text/plain": [
       "7.883549222797924"
      ]
     },
     "execution_count": 40,
     "metadata": {},
     "output_type": "execute_result"
    }
   ],
   "source": [
    "republic_df['Percent Black or African American'].mean()"
   ]
  },
  {
   "cell_type": "code",
   "execution_count": 41,
   "metadata": {},
   "outputs": [
    {
     "data": {
      "text/plain": [
       "[Text(0,0.5,'Percent Black/African American'),\n",
       " Text(0.5,0,'Party'),\n",
       " Text(0.5,1,'Percent Black or African American by County')]"
      ]
     },
     "execution_count": 41,
     "metadata": {},
     "output_type": "execute_result"
    },
    {
     "data": {
      "image/png": "[encoded data removed]",
      "text/plain": [
       "<Figure size 432x288 with 1 Axes>"
      ]
     },
     "metadata": {},
     "output_type": "display_data"
    }
   ],
   "source": [
    "ax = sns.barplot(x = 'Party' , y = final_df['Percent Black or African American'], data = final_df, palette= 'Set2')\n",
    "ax.set(title = 'Percent Black or African American by County', xlabel = 'Party', ylabel = 'Percent Black/African American')"
   ]
  },
  {
   "cell_type": "code",
   "execution_count": 42,
   "metadata": {},
   "outputs": [
    {
     "data": {
      "text/plain": [
       "77.03666666666666"
      ]
     },
     "execution_count": 42,
     "metadata": {},
     "output_type": "execute_result"
    }
   ],
   "source": [
    "# White People\n",
    "democratic_df['Percent White'].mean()"
   ]
  },
  {
   "cell_type": "code",
   "execution_count": 43,
   "metadata": {},
   "outputs": [
    {
     "data": {
      "text/plain": [
       "87.84391191709841"
      ]
     },
     "execution_count": 43,
     "metadata": {},
     "output_type": "execute_result"
    }
   ],
   "source": [
    "republic_df['Percent White'].mean()"
   ]
  },
  {
   "cell_type": "code",
   "execution_count": 44,
   "metadata": {},
   "outputs": [
    {
     "data": {
      "text/plain": [
       "[Text(0,0.5,'Percent White American'),\n",
       " Text(0.5,0,'Party'),\n",
       " Text(0.5,1,'Percent White American by County')]"
      ]
     },
     "execution_count": 44,
     "metadata": {},
     "output_type": "execute_result"
    },
    {
     "data": {
      "image/png": "[encoded data removed]",
      "text/plain": [
       "<Figure size 432x288 with 1 Axes>"
      ]
     },
     "metadata": {},
     "output_type": "display_data"
    }
   ],
   "source": [
    "ax = sns.barplot(x = 'Party' , y = final_df['Percent White'], data = final_df, palette='rocket')\n",
    "ax.set(title = 'Percent White American by County', xlabel = 'Party', ylabel = 'Percent White American')"
   ]
  },
  {
   "cell_type": "code",
   "execution_count": 45,
   "metadata": {},
   "outputs": [
    {
     "data": {
      "text/plain": [
       "2.4154385964912266"
      ]
     },
     "execution_count": 45,
     "metadata": {},
     "output_type": "execute_result"
    }
   ],
   "source": [
    "# Asian People\n",
    "democratic_df['Percent Asian'].mean()"
   ]
  },
  {
   "cell_type": "code",
   "execution_count": 46,
   "metadata": {},
   "outputs": [
    {
     "data": {
      "text/plain": [
       "1.0616580310880825"
      ]
     },
     "execution_count": 46,
     "metadata": {},
     "output_type": "execute_result"
    }
   ],
   "source": [
    "republic_df['Percent Asian'].mean()"
   ]
  },
  {
   "cell_type": "code",
   "execution_count": 47,
   "metadata": {},
   "outputs": [
    {
     "data": {
      "text/plain": [
       "[Text(0,0.5,'Percent Asian'),\n",
       " Text(0.5,0,'Party'),\n",
       " Text(0.5,1,'Percent Asian by County')]"
      ]
     },
     "execution_count": 47,
     "metadata": {},
     "output_type": "execute_result"
    },
    {
     "data": {
      "image/png": "[encoded data removed]",
      "text/plain": [
       "<Figure size 432x288 with 1 Axes>"
      ]
     },
     "metadata": {},
     "output_type": "display_data"
    }
   ],
   "source": [
    "ax = sns.barplot(x = 'Party' , y = final_df['Percent Asian'], data = final_df, palette='BuGn_r')\n",
    "ax.set(title = 'Percent Asian by County', xlabel = 'Party', ylabel = 'Percent Asian')"
   ]
  },
  {
   "cell_type": "code",
   "execution_count": 48,
   "metadata": {},
   "outputs": [
    {
     "data": {
      "text/plain": [
       "3.0724561403508766"
      ]
     },
     "execution_count": 48,
     "metadata": {},
     "output_type": "execute_result"
    }
   ],
   "source": [
    "# American Indian/Alaskan Natives\n",
    "democratic_df['Percent American Indian and Alaska Native'].mean()"
   ]
  },
  {
   "cell_type": "code",
   "execution_count": 49,
   "metadata": {},
   "outputs": [
    {
     "data": {
      "text/plain": [
       "1.4015544041450811"
      ]
     },
     "execution_count": 49,
     "metadata": {},
     "output_type": "execute_result"
    }
   ],
   "source": [
    "republic_df['Percent American Indian and Alaska Native'].mean()"
   ]
  },
  {
   "cell_type": "code",
   "execution_count": 50,
   "metadata": {},
   "outputs": [
    {
     "data": {
      "text/plain": [
       "[Text(0,0.5,'Percent American Indian'),\n",
       " Text(0.5,0,'Party'),\n",
       " Text(0.5,1,'Percent American Indian by County')]"
      ]
     },
     "execution_count": 50,
     "metadata": {},
     "output_type": "execute_result"
    },
    {
     "data": {
      "image/png": "[encoded data removed]",
      "text/plain": [
       "<Figure size 432x288 with 1 Axes>"
      ]
     },
     "metadata": {},
     "output_type": "display_data"
    }
   ],
   "source": [
    "ax = sns.barplot(x = 'Party' , y = final_df['Percent American Indian and Alaska Native'], data = final_df)\n",
    "ax.set(title = 'Percent American Indian by County', xlabel = 'Party', ylabel = 'Percent American Indian')"
   ]
  },
  {
   "cell_type": "code",
   "execution_count": 51,
   "metadata": {},
   "outputs": [
    {
     "data": {
      "text/plain": [
       "13.06491228070176"
      ]
     },
     "execution_count": 51,
     "metadata": {},
     "output_type": "execute_result"
    }
   ],
   "source": [
    "# Hispanic or Latino\n",
    "democratic_df['Percent Hispanic or Latino'].mean()"
   ]
  },
  {
   "cell_type": "code",
   "execution_count": 52,
   "metadata": {},
   "outputs": [
    {
     "data": {
      "text/plain": [
       "8.145012953367885"
      ]
     },
     "execution_count": 52,
     "metadata": {},
     "output_type": "execute_result"
    }
   ],
   "source": [
    "republic_df['Percent Hispanic or Latino'].mean()"
   ]
  },
  {
   "cell_type": "code",
   "execution_count": 53,
   "metadata": {},
   "outputs": [
    {
     "data": {
      "text/plain": [
       "[Text(0,0.5,'Percent Hispanic/Latino American'),\n",
       " Text(0.5,0,'Party'),\n",
       " Text(0.5,1,'Percent Hispanic or Latino by County')]"
      ]
     },
     "execution_count": 53,
     "metadata": {},
     "output_type": "execute_result"
    },
    {
     "data": {
      "image/png": "[encoded data removed]",
      "text/plain": [
       "<Figure size 432x288 with 1 Axes>"
      ]
     },
     "metadata": {},
     "output_type": "display_data"
    }
   ],
   "source": [
    "ax = sns.barplot(x = 'Party' , y = final_df['Percent Hispanic or Latino'], data = final_df, palette=\"cubehelix\")\n",
    "ax.set(title = 'Percent Hispanic or Latino by County', xlabel = 'Party', ylabel = 'Percent Hispanic/Latino American')"
   ]
  },
  {
   "cell_type": "code",
   "execution_count": 54,
   "metadata": {},
   "outputs": [
    {
     "data": {
      "text/plain": [
       "0.1735087719298244"
      ]
     },
     "execution_count": 54,
     "metadata": {},
     "output_type": "execute_result"
    }
   ],
   "source": [
    "# Native Hawaiian and Other Pacific Islander\n",
    "democratic_df['Percent Native Hawaiian and Other Pacific Islander'].mean()"
   ]
  },
  {
   "cell_type": "code",
   "execution_count": 55,
   "metadata": {},
   "outputs": [
    {
     "data": {
      "text/plain": [
       "0.0902849740932634"
      ]
     },
     "execution_count": 55,
     "metadata": {},
     "output_type": "execute_result"
    }
   ],
   "source": [
    "republic_df['Percent Native Hawaiian and Other Pacific Islander'].mean()"
   ]
  },
  {
   "cell_type": "code",
   "execution_count": 56,
   "metadata": {},
   "outputs": [
    {
     "data": {
      "text/plain": [
       "[Text(0,0.5,'Total Native Hawaiian'),\n",
       " Text(0.5,0,'Party'),\n",
       " Text(0.5,1,'Total Native Hawaiian by County')]"
      ]
     },
     "execution_count": 56,
     "metadata": {},
     "output_type": "execute_result"
    },
    {
     "data": {
      "image/png": "[encoded data removed]",
      "text/plain": [
       "<Figure size 432x288 with 1 Axes>"
      ]
     },
     "metadata": {},
     "output_type": "display_data"
    }
   ],
   "source": [
    "ax = sns.barplot(x = 'Party' , y = final_df['Percent Native Hawaiian and Other Pacific Islander'], data = final_df)\n",
    "ax.set(title = 'Total Native Hawaiian by County', xlabel = 'Party', ylabel = 'Total Native Hawaiian')"
   ]
  },
  {
   "cell_type": "code",
   "execution_count": 57,
   "metadata": {},
   "outputs": [
    {
     "data": {
      "text/plain": [
       "2.2743859649122804"
      ]
     },
     "execution_count": 57,
     "metadata": {},
     "output_type": "execute_result"
    }
   ],
   "source": [
    "# Two or more Races\n",
    "democratic_df['Percent Two or More Races'].mean()"
   ]
  },
  {
   "cell_type": "code",
   "execution_count": 58,
   "metadata": {},
   "outputs": [
    {
     "data": {
      "text/plain": [
       "1.7108160621761679"
      ]
     },
     "execution_count": 58,
     "metadata": {},
     "output_type": "execute_result"
    }
   ],
   "source": [
    "republic_df['Percent Two or More Races'].mean()"
   ]
  },
  {
   "cell_type": "code",
   "execution_count": 59,
   "metadata": {},
   "outputs": [
    {
     "data": {
      "text/plain": [
       "[Text(0,0.5,'Percent Two or more races'),\n",
       " Text(0.5,0,'Party'),\n",
       " Text(0.5,1,'Percent Two or More Races by County')]"
      ]
     },
     "execution_count": 59,
     "metadata": {},
     "output_type": "execute_result"
    },
    {
     "data": {
      "image/png": "[encoded data removed]",
      "text/plain": [
       "<Figure size 432x288 with 1 Axes>"
      ]
     },
     "metadata": {},
     "output_type": "display_data"
    }
   ],
   "source": [
    "ax = sns.barplot(x = 'Party' , y = final_df['Percent Two or More Races'], data = final_df, palette='autumn_r')\n",
    "ax.set(title = 'Percent Two or More Races by County', xlabel = 'Party', ylabel = 'Percent Two or more races')"
   ]
  },
  {
   "cell_type": "code",
   "execution_count": 60,
   "metadata": {},
   "outputs": [
    {
     "data": {
      "text/plain": [
       "65.44122807017537"
      ]
     },
     "execution_count": 60,
     "metadata": {},
     "output_type": "execute_result"
    }
   ],
   "source": [
    "# White Americans\n",
    "democratic_df['Percent White, not Hispanic or Latino'].mean()"
   ]
  },
  {
   "cell_type": "code",
   "execution_count": 61,
   "metadata": {},
   "outputs": [
    {
     "data": {
      "text/plain": [
       "80.5704663212436"
      ]
     },
     "execution_count": 61,
     "metadata": {},
     "output_type": "execute_result"
    }
   ],
   "source": [
    "republic_df['Percent White, not Hispanic or Latino'].mean()"
   ]
  },
  {
   "cell_type": "code",
   "execution_count": 62,
   "metadata": {},
   "outputs": [
    {
     "data": {
      "text/plain": [
       "[Text(0,0.5,'Percent White/Non-Hispanic'),\n",
       " Text(0.5,0,'Party'),\n",
       " Text(0.5,1,'Percent White, not Hispanic or Latino by County')]"
      ]
     },
     "execution_count": 62,
     "metadata": {},
     "output_type": "execute_result"
    },
    {
     "data": {
      "image/png": "[encoded data removed]",
      "text/plain": [
       "<Figure size 432x288 with 1 Axes>"
      ]
     },
     "metadata": {},
     "output_type": "display_data"
    }
   ],
   "source": [
    "ax = sns.barplot(x = 'Party' , y = final_df['Percent White, not Hispanic or Latino'], data = final_df, palette='hls')\n",
    "ax.set(title = 'Percent White, not Hispanic or Latino by County', xlabel = 'Party', ylabel = 'Percent White/Non-Hispanic')"
   ]
  },
  {
   "cell_type": "code",
   "execution_count": 63,
   "metadata": {},
   "outputs": [
    {
     "data": {
      "text/plain": [
       "49.959824561403465"
      ]
     },
     "execution_count": 63,
     "metadata": {},
     "output_type": "execute_result"
    }
   ],
   "source": [
    "# Party Vs Sex\n",
    "# Females\n",
    "democratic_df['Percent Female'].mean()"
   ]
  },
  {
   "cell_type": "code",
   "execution_count": 64,
   "metadata": {},
   "outputs": [
    {
     "data": {
      "text/plain": [
       "49.94313471502579"
      ]
     },
     "execution_count": 64,
     "metadata": {},
     "output_type": "execute_result"
    }
   ],
   "source": [
    "republic_df['Percent Female'].mean()"
   ]
  },
  {
   "cell_type": "code",
   "execution_count": 65,
   "metadata": {},
   "outputs": [
    {
     "data": {
      "text/plain": [
       "[Text(0,0.5,'Percent Female'),\n",
       " Text(0.5,0,'Party'),\n",
       " Text(0.5,1,'Percent Female by County')]"
      ]
     },
     "execution_count": 65,
     "metadata": {},
     "output_type": "execute_result"
    },
    {
     "data": {
      "image/png": "[encoded data removed]",
      "text/plain": [
       "<Figure size 432x288 with 1 Axes>"
      ]
     },
     "metadata": {},
     "output_type": "display_data"
    }
   ],
   "source": [
    "ax = sns.barplot(x = 'Party', y = final_df['Percent Female'], data = final_df, palette='gist_earth')\n",
    "ax.set(title = 'Percent Female by County',xlabel= 'Party', ylabel= 'Percent Female')"
   ]
  },
  {
   "cell_type": "code",
   "execution_count": 66,
   "metadata": {},
   "outputs": [
    {
     "data": {
      "text/plain": [
       "[Text(0,0.5,'Percent Male'),\n",
       " Text(0.5,0,'Party'),\n",
       " Text(0.5,1,'Percent Male by County')]"
      ]
     },
     "execution_count": 66,
     "metadata": {},
     "output_type": "execute_result"
    },
    {
     "data": {
      "image/png": "[encoded data removed]",
      "text/plain": [
       "<Figure size 432x288 with 1 Axes>"
      ]
     },
     "metadata": {},
     "output_type": "display_data"
    }
   ],
   "source": [
    "ax = sns.barplot(x = 'Party', y = (100-final_df['Percent Female']), data = final_df, palette='magma')\n",
    "ax.set(title = 'Percent Male by County',xlabel= 'Party', ylabel= 'Percent Male')"
   ]
  },
  {
   "cell_type": "code",
   "execution_count": 67,
   "metadata": {},
   "outputs": [
    {
     "data": {
      "text/plain": [
       "16.22350877192984"
      ]
     },
     "execution_count": 67,
     "metadata": {},
     "output_type": "execute_result"
    }
   ],
   "source": [
    "# Party Vs Age\n",
    "# 65 and older\n",
    "democratic_df['Percent 65 and Older'].mean()"
   ]
  },
  {
   "cell_type": "code",
   "execution_count": 68,
   "metadata": {},
   "outputs": [
    {
     "data": {
      "text/plain": [
       "18.006800518134728"
      ]
     },
     "execution_count": 68,
     "metadata": {},
     "output_type": "execute_result"
    }
   ],
   "source": [
    "republic_df['Percent 65 and Older'].mean()"
   ]
  },
  {
   "cell_type": "code",
   "execution_count": 69,
   "metadata": {},
   "outputs": [
    {
     "data": {
      "text/plain": [
       "[Text(0,0.5,'Percent aged 65 and older'),\n",
       " Text(0.5,0,'Party'),\n",
       " Text(0.5,1,'Percent Aged 65 and older by County')]"
      ]
     },
     "execution_count": 69,
     "metadata": {},
     "output_type": "execute_result"
    },
    {
     "data": {
      "image/png": "[encoded data removed]",
      "text/plain": [
       "<Figure size 432x288 with 1 Axes>"
      ]
     },
     "metadata": {},
     "output_type": "display_data"
    }
   ],
   "source": [
    "ax = sns.barplot(x = 'Party', y = final_df['Percent 65 and Older'], data = final_df, palette='GnBu_d')\n",
    "ax.set(title = 'Percent Aged 65 and older by County',xlabel= 'Party', ylabel= 'Percent aged 65 and older')"
   ]
  },
  {
   "cell_type": "code",
   "execution_count": 70,
   "metadata": {},
   "outputs": [
    {
     "data": {
      "text/plain": [
       "55.594736842105235"
      ]
     },
     "execution_count": 70,
     "metadata": {},
     "output_type": "execute_result"
    }
   ],
   "source": [
    "# 18 to 65\n",
    "democratic_df['Percent 18 to 65'].mean()"
   ]
  },
  {
   "cell_type": "code",
   "execution_count": 71,
   "metadata": {},
   "outputs": [
    {
     "data": {
      "text/plain": [
       "53.611269430051856"
      ]
     },
     "execution_count": 71,
     "metadata": {},
     "output_type": "execute_result"
    }
   ],
   "source": [
    "republic_df['Percent 18 to 65'].mean()"
   ]
  },
  {
   "cell_type": "code",
   "execution_count": 72,
   "metadata": {},
   "outputs": [
    {
     "data": {
      "text/plain": [
       "[Text(0,0.5,'Percent aged 18-65'),\n",
       " Text(0.5,0,'Party'),\n",
       " Text(0.5,1,'Percent Aged 18-65 by County')]"
      ]
     },
     "execution_count": 72,
     "metadata": {},
     "output_type": "execute_result"
    },
    {
     "data": {
      "image/png": "[encoded data removed]",
      "text/plain": [
       "<Figure size 432x288 with 1 Axes>"
      ]
     },
     "metadata": {},
     "output_type": "display_data"
    }
   ],
   "source": [
    "ax = sns.barplot(x = 'Party', y = final_df['Percent 18 to 65'], data = final_df, palette='deep')\n",
    "ax.set(title = 'Percent Aged 18-65 by County',xlabel= 'Party', ylabel= 'Percent aged 18-65')"
   ]
  },
  {
   "cell_type": "code",
   "execution_count": 73,
   "metadata": {},
   "outputs": [
    {
     "data": {
      "text/plain": [
       "60.70807017543864"
      ]
     },
     "execution_count": 73,
     "metadata": {},
     "output_type": "execute_result"
    }
   ],
   "source": [
    "# Party Vs Education\n",
    "# High School Degree\n",
    "democratic_df['High School'] = (democratic_df['Percent High School or Higher']-democratic_df['Percent Bachelor\\'s Degree or Higher'])\n",
    "democratic_df['High School'].mean()"
   ]
  },
  {
   "cell_type": "code",
   "execution_count": 74,
   "metadata": {},
   "outputs": [
    {
     "data": {
      "text/plain": [
       "65.83944300518142"
      ]
     },
     "execution_count": 74,
     "metadata": {},
     "output_type": "execute_result"
    }
   ],
   "source": [
    "republic_df['High School'] = (republic_df['Percent High School or Higher']-republic_df['Percent Bachelor\\'s Degree or Higher'])\n",
    "republic_df['High School'].mean()"
   ]
  },
  {
   "cell_type": "code",
   "execution_count": 75,
   "metadata": {},
   "outputs": [
    {
     "data": {
      "text/plain": [
       "[Text(0,0.5,'Percent with high school degree'),\n",
       " Text(0.5,0,'Party'),\n",
       " Text(0.5,1,'Percent with High School degree by County')]"
      ]
     },
     "execution_count": 75,
     "metadata": {},
     "output_type": "execute_result"
    },
    {
     "data": {
      "image/png": "[encoded data removed]",
      "text/plain": [
       "<Figure size 432x288 with 1 Axes>"
      ]
     },
     "metadata": {},
     "output_type": "display_data"
    }
   ],
   "source": [
    "ax = sns.barplot(x = 'Party', y = (final_df['Percent High School or Higher']-final_df['Percent Bachelor\\'s Degree or Higher']), data = final_df, palette='Blues')\n",
    "ax.set(title = 'Percent with High School degree by County',xlabel= 'Party', ylabel= 'Percent with high school degree')"
   ]
  },
  {
   "cell_type": "code",
   "execution_count": 76,
   "metadata": {},
   "outputs": [
    {
     "data": {
      "text/plain": [
       "22.489473684210534"
      ]
     },
     "execution_count": 76,
     "metadata": {},
     "output_type": "execute_result"
    }
   ],
   "source": [
    "# Bachelors and Higher Degree\n",
    "democratic_df['Percent Bachelor\\'s Degree or Higher'].mean()"
   ]
  },
  {
   "cell_type": "code",
   "execution_count": 77,
   "metadata": {},
   "outputs": [
    {
     "data": {
      "text/plain": [
       "18.569624352331598"
      ]
     },
     "execution_count": 77,
     "metadata": {},
     "output_type": "execute_result"
    }
   ],
   "source": [
    "republic_df['Percent Bachelor\\'s Degree or Higher'].mean()"
   ]
  },
  {
   "cell_type": "code",
   "execution_count": 87,
   "metadata": {},
   "outputs": [
    {
     "data": {
      "text/plain": [
       "[Text(0,0.5,'Percent with Bachelors and higher degree'),\n",
       " Text(0.5,0,'Party'),\n",
       " Text(0.5,1,'Percent with bachelors and higher degree')]"
      ]
     },
     "execution_count": 87,
     "metadata": {},
     "output_type": "execute_result"
    },
    {
     "data": {
      "image/png": "[encoded data removed]",
      "text/plain": [
       "<Figure size 432x288 with 1 Axes>"
      ]
     },
     "metadata": {},
     "output_type": "display_data"
    }
   ],
   "source": [
    "ax = sns.barplot(x = 'Party', y = final_df['Percent Bachelor\\'s Degree or Higher'], data = final_df, palette='hls')\n",
    "ax.set(title = 'Percent with bachelors and higher degree',xlabel= 'Party', ylabel= 'Percent with Bachelors and higher degree')"
   ]
  },
  {
   "cell_type": "code",
   "execution_count": null,
   "metadata": {},
   "outputs": [],
   "source": []
  },
  {
   "cell_type": "code",
   "execution_count": 81,
   "metadata": {},
   "outputs": [],
   "source": [
    "# Question 10:\n",
    "import plotly\n",
    "import plotly.plotly as py\n",
    "import plotly.figure_factory as ff\n",
    "plotly.tools.set_credentials_file(username='adarshjv20', api_key='VhR37dcVwvfCYHbv3qO0')"
   ]
  },
  {
   "cell_type": "code",
   "execution_count": 82,
   "metadata": {},
   "outputs": [],
   "source": [
    "fips_data = pd.read_excel('Fips.xlsx')\n",
    "cols = fips_data.iloc[0,:]\n",
    "cols[1] = 'County'\n",
    "fips_data.columns = cols\n",
    "fips_data = fips_data.drop(0)"
   ]
  },
  {
   "cell_type": "code",
   "execution_count": 83,
   "metadata": {},
   "outputs": [],
   "source": [
    "fips_data['FIPS'] = fips_data['FIPS State'] + fips_data['FIPS County']\n",
    "fips_data['State'] = fips_data['State'].map(State_list)"
   ]
  },
  {
   "cell_type": "code",
   "execution_count": 84,
   "metadata": {},
   "outputs": [
    {
     "data": {
      "text/html": [
       "<div>\n",
       "<style scoped>\n",
       "    .dataframe tbody tr th:only-of-type {\n",
       "        vertical-align: middle;\n",
       "    }\n",
       "\n",
       "    .dataframe tbody tr th {\n",
       "        vertical-align: top;\n",
       "    }\n",
       "\n",
       "    .dataframe thead th {\n",
       "        text-align: right;\n",
       "    }\n",
       "</style>\n",
       "<table border=\"1\" class=\"dataframe\">\n",
       "  <thead>\n",
       "    <tr style=\"text-align: right;\">\n",
       "      <th></th>\n",
       "      <th>State</th>\n",
       "      <th>County</th>\n",
       "      <th>FIPS State</th>\n",
       "      <th>FIPS County</th>\n",
       "      <th>FIPS</th>\n",
       "    </tr>\n",
       "  </thead>\n",
       "  <tbody>\n",
       "    <tr>\n",
       "      <th>1</th>\n",
       "      <td>AL</td>\n",
       "      <td>Autauga</td>\n",
       "      <td>01</td>\n",
       "      <td>001</td>\n",
       "      <td>01001</td>\n",
       "    </tr>\n",
       "    <tr>\n",
       "      <th>2</th>\n",
       "      <td>AL</td>\n",
       "      <td>Baldwin</td>\n",
       "      <td>01</td>\n",
       "      <td>003</td>\n",
       "      <td>01003</td>\n",
       "    </tr>\n",
       "    <tr>\n",
       "      <th>3</th>\n",
       "      <td>AL</td>\n",
       "      <td>Barbour</td>\n",
       "      <td>01</td>\n",
       "      <td>005</td>\n",
       "      <td>01005</td>\n",
       "    </tr>\n",
       "    <tr>\n",
       "      <th>4</th>\n",
       "      <td>AL</td>\n",
       "      <td>Bibb</td>\n",
       "      <td>01</td>\n",
       "      <td>007</td>\n",
       "      <td>01007</td>\n",
       "    </tr>\n",
       "    <tr>\n",
       "      <th>5</th>\n",
       "      <td>AL</td>\n",
       "      <td>Blount</td>\n",
       "      <td>01</td>\n",
       "      <td>009</td>\n",
       "      <td>01009</td>\n",
       "    </tr>\n",
       "  </tbody>\n",
       "</table>\n",
       "</div>"
      ],
      "text/plain": [
       "0 State   County FIPS State FIPS County   FIPS\n",
       "1    AL  Autauga         01         001  01001\n",
       "2    AL  Baldwin         01         003  01003\n",
       "3    AL  Barbour         01         005  01005\n",
       "4    AL     Bibb         01         007  01007\n",
       "5    AL   Blount         01         009  01009"
      ]
     },
     "execution_count": 84,
     "metadata": {},
     "output_type": "execute_result"
    }
   ],
   "source": [
    "fips_data.head()"
   ]
  },
  {
   "cell_type": "code",
   "execution_count": 85,
   "metadata": {},
   "outputs": [],
   "source": [
    "final = pd.merge(final_df,fips_data,on=['State','County'])"
   ]
  },
  {
   "cell_type": "code",
   "execution_count": 86,
   "metadata": {},
   "outputs": [
    {
     "name": "stdout",
     "output_type": "stream",
     "text": [
      "The draw time for this plot will be slow for clients without much RAM.\n"
     ]
    },
    {
     "data": {
      "text/html": [
       "<iframe id=\"igraph\" scrolling=\"no\" style=\"border:none;\" seamless=\"seamless\" src=\"https://plot.ly/~adarshjv20/5.embed\" height=\"450px\" width=\"900px\"></iframe>"
      ],
      "text/plain": [
       "<plotly.tools.PlotlyDisplay object>"
      ]
     },
     "execution_count": 86,
     "metadata": {},
     "output_type": "execute_result"
    }
   ],
   "source": [
    "# Plot Counties\n",
    "fips = final['FIPS'].tolist()\n",
    "values = final['Party'].tolist()\n",
    "colorscale = [\"#ffa500\",\"#0b4083\"]\n",
    "fig = ff.create_choropleth(fips=fips, values=values, colorscale=colorscale,legend_title='County',title='Democratic and Republic Counties')\n",
    "py.iplot(fig, filename='choropleth of some cali counties - full usa scope')\n"
   ]
  },
  {
   "cell_type": "code",
   "execution_count": null,
   "metadata": {},
   "outputs": [],
   "source": []
  }
 ],
 "metadata": {
  "kernelspec": {
   "display_name": "Python 3",
   "language": "python",
   "name": "python3"
  },
  "language_info": {
   "codemirror_mode": {
    "name": "ipython",
    "version": 3
   },
   "file_extension": ".py",
   "mimetype": "text/x-python",
   "name": "python",
   "nbconvert_exporter": "python",
   "pygments_lexer": "ipython3",
   "version": "3.6.5"
  }
 },
 "nbformat": 4,
 "nbformat_minor": 2
}
